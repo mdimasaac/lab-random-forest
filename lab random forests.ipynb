{
 "cells": [
  {
   "cell_type": "code",
   "execution_count": 99,
   "metadata": {},
   "outputs": [],
   "source": [
    "import pandas as pd\n",
    "import numpy as np"
   ]
  },
  {
   "attachments": {},
   "cell_type": "markdown",
   "metadata": {},
   "source": [
    "## lab day 4, part 1\n",
    "\n",
    "In part 1, following will be done:\n",
    "- xy split\n",
    "- train test split\n",
    "- numerical categorical split\n",
    "- encode, scale\n",
    "- oversample the train data\n",
    "- run classifier(s)<br>\n",
    "<br>then display the prediction scores.<br>\n",
    "In part 2, feature selection will be done before running the classifiers once again. The results will be compared"
   ]
  },
  {
   "cell_type": "code",
   "execution_count": 100,
   "metadata": {},
   "outputs": [],
   "source": [
    "categorical = pd.read_csv(\"categorical.csv\")\n",
    "numerical = pd.read_csv(\"numerical.csv\")\n",
    "target = pd.read_csv(\"target.csv\")"
   ]
  },
  {
   "cell_type": "code",
   "execution_count": 101,
   "metadata": {},
   "outputs": [
    {
     "data": {
      "text/plain": [
       "2"
      ]
     },
     "execution_count": 101,
     "metadata": {},
     "output_type": "execute_result"
    }
   ],
   "source": [
    "# checking nan\n",
    "data = pd.concat([categorical, numerical, target], axis = 1)\n",
    "data.isna().sum().sum()"
   ]
  },
  {
   "cell_type": "code",
   "execution_count": 102,
   "metadata": {},
   "outputs": [
    {
     "data": {
      "text/plain": [
       "['FIRSTDATE_MM']"
      ]
     },
     "execution_count": 102,
     "metadata": {},
     "output_type": "execute_result"
    }
   ],
   "source": [
    "# checking column where it has nan\n",
    "na = pd.DataFrame(data.isna().sum(), columns = [\"col\"])\n",
    "na = na[na.col != 0].index.values.tolist()\n",
    "na"
   ]
  },
  {
   "cell_type": "code",
   "execution_count": 103,
   "metadata": {},
   "outputs": [
    {
     "data": {
      "text/plain": [
       "83217   NaN\n",
       "93811   NaN\n",
       "Name: FIRSTDATE_MM, dtype: float64"
      ]
     },
     "execution_count": 103,
     "metadata": {},
     "output_type": "execute_result"
    }
   ],
   "source": [
    "# checking rows in where it has nan in that specific column\n",
    "data.FIRSTDATE_MM[data.FIRSTDATE_MM.isna() == True]"
   ]
  },
  {
   "cell_type": "code",
   "execution_count": 104,
   "metadata": {},
   "outputs": [
    {
     "name": "stdout",
     "output_type": "stream",
     "text": [
      "95412\n",
      "95410\n"
     ]
    }
   ],
   "source": [
    "# drop rows\n",
    "print(data.shape[0])\n",
    "data = data.drop([83217,93811])\n",
    "print(data.shape[0])"
   ]
  },
  {
   "cell_type": "code",
   "execution_count": 105,
   "metadata": {},
   "outputs": [],
   "source": [
    "from sklearn.model_selection import train_test_split as tts\n",
    "from sklearn.preprocessing import MinMaxScaler\n",
    "from sklearn.preprocessing import OneHotEncoder\n",
    "X = data.drop(columns = [\"TARGET_B\",\"TARGET_D\"])\n",
    "y = data[[\"TARGET_B\",\"TARGET_D\"]]\n",
    "# d = data[\"TARGET_D\"]\n",
    "X_train, X_test, y_train, y_test = tts(X, y, test_size=0.2, random_state=23)"
   ]
  },
  {
   "cell_type": "code",
   "execution_count": 106,
   "metadata": {},
   "outputs": [],
   "source": [
    "def scale(train, test):\n",
    "    scaler = MinMaxScaler().fit(train)\n",
    "    train_scaled = scaler.transform(train)\n",
    "    test_scaled = scaler.transform(test)\n",
    "    cols = scaler.get_feature_names_out(input_features = train.columns)\n",
    "    train_scaled = pd.DataFrame(train_scaled, columns = cols)\n",
    "    test_scaled = pd.DataFrame(test_scaled, columns = cols)\n",
    "    return train_scaled, test_scaled"
   ]
  },
  {
   "cell_type": "code",
   "execution_count": 107,
   "metadata": {},
   "outputs": [],
   "source": [
    "def encode(train, test):\n",
    "    encoder = OneHotEncoder().fit(train)\n",
    "    train_encoded = encoder.transform(train).toarray()\n",
    "    test_encoded = encoder.transform(test).toarray()\n",
    "    train_encoded = pd.DataFrame(train_encoded)\n",
    "    test_encoded = pd.DataFrame(test_encoded)\n",
    "    return train_encoded, test_encoded\n"
   ]
  },
  {
   "cell_type": "code",
   "execution_count": 108,
   "metadata": {},
   "outputs": [],
   "source": [
    "def num_cat_split(xtrain, xtest):\n",
    "    num_train = xtrain.select_dtypes(np.number)\n",
    "    num_test = xtest.select_dtypes(np.number)\n",
    "    cat_train = xtrain.select_dtypes(object)\n",
    "    cat_test = xtest.select_dtypes(object)\n",
    "    return num_train, num_test, cat_train, cat_test"
   ]
  },
  {
   "cell_type": "code",
   "execution_count": 196,
   "metadata": {},
   "outputs": [],
   "source": [
    "def processing(xtrain, xtest, to_scale, to_encode):\n",
    "    num_train, num_test, cat_train, cat_test = num_cat_split(xtrain, xtest)\n",
    "    if to_scale:\n",
    "        train_scaled, test_scaled = scale(num_train, num_test)\n",
    "    else:\n",
    "        train_scaled = num_train\n",
    "        test_scaled = num_test\n",
    "    if to_encode:\n",
    "        train_encoded, test_encoded = encode(cat_train, cat_test)\n",
    "    else:\n",
    "        train_encoded = cat_train\n",
    "        test_encoded = cat_test\n",
    "    train_scaled = train_scaled.reset_index(drop = True)\n",
    "    train_encoded = train_encoded.reset_index(drop = True)\n",
    "    test_scaled = test_scaled.reset_index(drop = True)\n",
    "    test_encoded = test_encoded.reset_index(drop = True)\n",
    "    xtrain = pd.concat([train_scaled, train_encoded], axis = 1)\n",
    "    xtest = pd.concat([test_scaled, test_encoded], axis = 1)\n",
    "    return xtrain, xtest"
   ]
  },
  {
   "cell_type": "code",
   "execution_count": 110,
   "metadata": {},
   "outputs": [],
   "source": [
    "def combine_xy(xtrain, ytrain):\n",
    "    xtrain = xtrain.reset_index(drop = True)\n",
    "    ytrain = ytrain.reset_index(drop = True)\n",
    "    train = pd.concat([xtrain, ytrain], axis = 1)\n",
    "    return train"
   ]
  },
  {
   "attachments": {},
   "cell_type": "markdown",
   "metadata": {},
   "source": [
    "after train test split, run this function to:\n",
    "- split numerical categorical for train and test\n",
    "- minmax scaler for numerical train and numerical test. create dataframes\n",
    "- onehot encoder for categorical train and categorical test. create dataframes\n",
    "- pd concat numerical + categorical train, numerical + categorical test\n",
    "- return X_train_processed and X_test_processed"
   ]
  },
  {
   "cell_type": "code",
   "execution_count": 111,
   "metadata": {},
   "outputs": [],
   "source": [
    "to_scale = True\n",
    "to_encode = True\n",
    "X_train, X_test = processing(X_train, X_test, to_scale, to_encode)"
   ]
  },
  {
   "cell_type": "code",
   "execution_count": 112,
   "metadata": {},
   "outputs": [
    {
     "data": {
      "text/plain": [
       "0"
      ]
     },
     "execution_count": 112,
     "metadata": {},
     "output_type": "execute_result"
    }
   ],
   "source": [
    "from sklearn.utils import resample\n",
    "train = combine_xy(X_train, y_train)\n",
    "train.isna().sum().sum()"
   ]
  },
  {
   "cell_type": "code",
   "execution_count": 113,
   "metadata": {},
   "outputs": [],
   "source": [
    "train_1 = train[train.TARGET_B == 1]\n",
    "train_0 = train[train.TARGET_B == 0]\n",
    "train_1_over = resample(train_1, replace = True, n_samples = len(train_0), random_state = 33)\n",
    "train_over = pd.concat([train_1_over, train_0], axis = 0)\n",
    "x_train_over = train_over.drop(columns = \"TARGET_B\").copy()\n",
    "y_train_over = train_over[[\"TARGET_B\"]].copy()\n",
    "to_drop = [\"index\", \"level_0\", \"TARGET_D\"]\n",
    "for i in to_drop:\n",
    "    try:\n",
    "        x_train_over = x_train_over.drop(columns = i)\n",
    "    except:\n",
    "        pass"
   ]
  },
  {
   "cell_type": "code",
   "execution_count": 118,
   "metadata": {},
   "outputs": [],
   "source": [
    "from sklearn.tree import DecisionTreeClassifier\n",
    "from sklearn.linear_model import LogisticRegression\n",
    "from sklearn.ensemble import RandomForestClassifier\n",
    "from sklearn.metrics import confusion_matrix\n",
    "from sklearn.model_selection import cross_val_score\n",
    "from sklearn.neighbors import KNeighborsClassifier\n",
    "\n",
    "import warnings\n",
    "warnings.simplefilter(action='ignore', category=FutureWarning)\n",
    "from sklearn.exceptions import DataConversionWarning\n",
    "warnings.filterwarnings(action='ignore', category=DataConversionWarning)"
   ]
  },
  {
   "cell_type": "code",
   "execution_count": 202,
   "metadata": {},
   "outputs": [],
   "source": [
    "def run_pipeline_clf(x_train_over, X_train, X_test, y_train_over, y_test):\n",
    "    dt_clf = DecisionTreeClassifier()\n",
    "    logr = LogisticRegression(max_iter = 500)\n",
    "    kn_clf = KNeighborsClassifier()\n",
    "    rf_clf = RandomForestClassifier(max_depth=5, min_samples_split=10, min_samples_leaf =30, max_samples=0.7, random_state = 42)\n",
    "    model_pipeline = [dt_clf, logr, kn_clf, rf_clf]\n",
    "    model_name = [\"decision_tree_clf\",\"logistic_regr\",\"k_neighbors_clf\",\"random_forest_clf\"]\n",
    "    scores = {}\n",
    "    preds_train = {}\n",
    "    preds_test = {}\n",
    "    confusion = {}\n",
    "    for i,j in zip(model_pipeline, model_name):\n",
    "        mean_score = np.mean(cross_val_score(i, x_train_over, y_train_over, cv = 5))\n",
    "        scores[j] = mean_score\n",
    "        i.fit(x_train_over, y_train_over)\n",
    "        pred_train = i.predict(X_train)\n",
    "        preds_train[j] = pred_train\n",
    "        pred_test = i.predict(X_test)\n",
    "        preds_test[j] = pred_test\n",
    "        confusion[j] = confusion_matrix(y_test,pred_test)\n",
    "    return scores, preds_train, preds_test, confusion"
   ]
  },
  {
   "cell_type": "code",
   "execution_count": null,
   "metadata": {},
   "outputs": [],
   "source": [
    "# so basically it's training using oversampled data, to make prediction both for\n",
    "# train and test part. because we want to predict the TARGET_B for all person.\n",
    "# we will get 1/0 for all rows. this prediction result will then be concatenated\n",
    "# to the full dataframe.\n",
    "# full dataframe consists of:\n",
    "# X_train, y_train, target_D (train part), pred_train,\n",
    "# X_test, y_test, target_D (test part), pred_test, altogether"
   ]
  },
  {
   "attachments": {},
   "cell_type": "markdown",
   "metadata": {},
   "source": [
    "### getting results"
   ]
  },
  {
   "cell_type": "code",
   "execution_count": 124,
   "metadata": {},
   "outputs": [
    {
     "name": "stderr",
     "output_type": "stream",
     "text": [
      "d:\\Python 3.10\\lib\\site-packages\\sklearn\\linear_model\\_logistic.py:444: ConvergenceWarning: lbfgs failed to converge (status=1):\n",
      "STOP: TOTAL NO. of ITERATIONS REACHED LIMIT.\n",
      "\n",
      "Increase the number of iterations (max_iter) or scale the data as shown in:\n",
      "    https://scikit-learn.org/stable/modules/preprocessing.html\n",
      "Please also refer to the documentation for alternative solver options:\n",
      "    https://scikit-learn.org/stable/modules/linear_model.html#logistic-regression\n",
      "  n_iter_i = _check_optimize_result(\n",
      "d:\\Python 3.10\\lib\\site-packages\\sklearn\\linear_model\\_logistic.py:444: ConvergenceWarning: lbfgs failed to converge (status=1):\n",
      "STOP: TOTAL NO. of ITERATIONS REACHED LIMIT.\n",
      "\n",
      "Increase the number of iterations (max_iter) or scale the data as shown in:\n",
      "    https://scikit-learn.org/stable/modules/preprocessing.html\n",
      "Please also refer to the documentation for alternative solver options:\n",
      "    https://scikit-learn.org/stable/modules/linear_model.html#logistic-regression\n",
      "  n_iter_i = _check_optimize_result(\n",
      "d:\\Python 3.10\\lib\\site-packages\\sklearn\\linear_model\\_logistic.py:444: ConvergenceWarning: lbfgs failed to converge (status=1):\n",
      "STOP: TOTAL NO. of ITERATIONS REACHED LIMIT.\n",
      "\n",
      "Increase the number of iterations (max_iter) or scale the data as shown in:\n",
      "    https://scikit-learn.org/stable/modules/preprocessing.html\n",
      "Please also refer to the documentation for alternative solver options:\n",
      "    https://scikit-learn.org/stable/modules/linear_model.html#logistic-regression\n",
      "  n_iter_i = _check_optimize_result(\n",
      "d:\\Python 3.10\\lib\\site-packages\\sklearn\\linear_model\\_logistic.py:444: ConvergenceWarning: lbfgs failed to converge (status=1):\n",
      "STOP: TOTAL NO. of ITERATIONS REACHED LIMIT.\n",
      "\n",
      "Increase the number of iterations (max_iter) or scale the data as shown in:\n",
      "    https://scikit-learn.org/stable/modules/preprocessing.html\n",
      "Please also refer to the documentation for alternative solver options:\n",
      "    https://scikit-learn.org/stable/modules/linear_model.html#logistic-regression\n",
      "  n_iter_i = _check_optimize_result(\n",
      "d:\\Python 3.10\\lib\\site-packages\\sklearn\\linear_model\\_logistic.py:444: ConvergenceWarning: lbfgs failed to converge (status=1):\n",
      "STOP: TOTAL NO. of ITERATIONS REACHED LIMIT.\n",
      "\n",
      "Increase the number of iterations (max_iter) or scale the data as shown in:\n",
      "    https://scikit-learn.org/stable/modules/preprocessing.html\n",
      "Please also refer to the documentation for alternative solver options:\n",
      "    https://scikit-learn.org/stable/modules/linear_model.html#logistic-regression\n",
      "  n_iter_i = _check_optimize_result(\n",
      "d:\\Python 3.10\\lib\\site-packages\\sklearn\\linear_model\\_logistic.py:444: ConvergenceWarning: lbfgs failed to converge (status=1):\n",
      "STOP: TOTAL NO. of ITERATIONS REACHED LIMIT.\n",
      "\n",
      "Increase the number of iterations (max_iter) or scale the data as shown in:\n",
      "    https://scikit-learn.org/stable/modules/preprocessing.html\n",
      "Please also refer to the documentation for alternative solver options:\n",
      "    https://scikit-learn.org/stable/modules/linear_model.html#logistic-regression\n",
      "  n_iter_i = _check_optimize_result(\n"
     ]
    }
   ],
   "source": [
    "scores, preds_train, preds_test, confusion = run_pipeline_clf(x_train_over, X_train, X_test, y_train_over, y_test[[\"TARGET_B\"]])"
   ]
  },
  {
   "cell_type": "code",
   "execution_count": 125,
   "metadata": {},
   "outputs": [
    {
     "data": {
      "text/plain": [
       "{'decision_tree_clf': 0.9673288739767333,\n",
       " 'logistic_regr': 0.6031629319929785,\n",
       " 'k_neighbors_clf': 0.9141563219132494,\n",
       " 'random_forest_clf': 0.6183905955233309}"
      ]
     },
     "execution_count": 125,
     "metadata": {},
     "output_type": "execute_result"
    }
   ],
   "source": [
    "scores"
   ]
  },
  {
   "cell_type": "code",
   "execution_count": 126,
   "metadata": {},
   "outputs": [
    {
     "data": {
      "text/plain": [
       "{'decision_tree_clf': array([0, 0, 0, ..., 0, 0, 0], dtype=int64),\n",
       " 'logistic_regr': array([0, 0, 1, ..., 0, 0, 1], dtype=int64),\n",
       " 'k_neighbors_clf': array([0, 0, 0, ..., 0, 0, 0], dtype=int64),\n",
       " 'random_forest_clf': array([0, 0, 0, ..., 0, 0, 1], dtype=int64)}"
      ]
     },
     "execution_count": 126,
     "metadata": {},
     "output_type": "execute_result"
    }
   ],
   "source": [
    "preds_train"
   ]
  },
  {
   "cell_type": "code",
   "execution_count": 127,
   "metadata": {},
   "outputs": [
    {
     "data": {
      "text/plain": [
       "{'decision_tree_clf': array([0, 0, 0, ..., 0, 0, 0], dtype=int64),\n",
       " 'logistic_regr': array([0, 0, 0, ..., 0, 1, 0], dtype=int64),\n",
       " 'k_neighbors_clf': array([0, 0, 0, ..., 0, 0, 0], dtype=int64),\n",
       " 'random_forest_clf': array([1, 0, 0, ..., 0, 1, 0], dtype=int64)}"
      ]
     },
     "execution_count": 127,
     "metadata": {},
     "output_type": "execute_result"
    }
   ],
   "source": [
    "preds_test"
   ]
  },
  {
   "cell_type": "code",
   "execution_count": 128,
   "metadata": {},
   "outputs": [
    {
     "data": {
      "text/plain": [
       "{'decision_tree_clf': array([[17110,  1023],\n",
       "        [  883,    66]], dtype=int64),\n",
       " 'logistic_regr': array([[11276,  6857],\n",
       "        [  424,   525]], dtype=int64),\n",
       " 'k_neighbors_clf': array([[15642,  2491],\n",
       "        [  801,   148]], dtype=int64),\n",
       " 'random_forest_clf': array([[11338,  6795],\n",
       "        [  437,   512]], dtype=int64)}"
      ]
     },
     "execution_count": 128,
     "metadata": {},
     "output_type": "execute_result"
    }
   ],
   "source": [
    "confusion"
   ]
  },
  {
   "attachments": {},
   "cell_type": "markdown",
   "metadata": {},
   "source": [
    "## lab day 4, part 2"
   ]
  },
  {
   "cell_type": "code",
   "execution_count": null,
   "metadata": {},
   "outputs": [],
   "source": [
    "# I take original X_train, X_test here to do feature selection.\n",
    "# then I only use a few columns from them, and use the same columns from x_train_over \n",
    "# to make a new prdiction. this time with only selected features."
   ]
  },
  {
   "cell_type": "code",
   "execution_count": 132,
   "metadata": {},
   "outputs": [],
   "source": [
    "X_train, X_test = scale(X_train, X_test)"
   ]
  },
  {
   "cell_type": "code",
   "execution_count": 136,
   "metadata": {},
   "outputs": [
    {
     "data": {
      "text/plain": [
       "CLUSTER      float64\n",
       "DATASRCE     float64\n",
       "DOMAIN_B     float64\n",
       "ODATEW_YR    float64\n",
       "ODATEW_MM    float64\n",
       "              ...   \n",
       "26           float64\n",
       "27           float64\n",
       "28           float64\n",
       "29           float64\n",
       "30           float64\n",
       "Length: 361, dtype: object"
      ]
     },
     "execution_count": 136,
     "metadata": {},
     "output_type": "execute_result"
    }
   ],
   "source": [
    "X_train.dtypes"
   ]
  },
  {
   "cell_type": "code",
   "execution_count": 138,
   "metadata": {},
   "outputs": [],
   "source": [
    "num_scaler = MinMaxScaler().fit(numerical)\n",
    "num_scaled = num_scaler.transform(numerical)\n",
    "cols = num_scaler.get_feature_names_out(input_features = numerical.columns)\n",
    "num_scaled = pd.DataFrame(num_scaled, columns = cols)"
   ]
  },
  {
   "cell_type": "code",
   "execution_count": 139,
   "metadata": {},
   "outputs": [
    {
     "data": {
      "text/plain": [
       "285"
      ]
     },
     "execution_count": 139,
     "metadata": {},
     "output_type": "execute_result"
    }
   ],
   "source": [
    "from sklearn.feature_selection import RFE\n",
    "from sklearn import linear_model\n",
    "\n",
    "\n",
    "x = num_scaled\n",
    "y = target[\"TARGET_B\"]\n",
    "lm = linear_model.LinearRegression()\n",
    "rfe = RFE(lm, n_features_to_select=30, verbose=False)\n",
    "rfe.fit(x, y)\n",
    "\n",
    "ranking = pd.DataFrame(data = rfe.ranking_, columns=['rank'])\n",
    "ranking['column'] = pd.DataFrame(num_scaled).columns\n",
    "cols_to_drop = ranking.column[ranking['rank']!=1].tolist()\n",
    "len(cols_to_drop)"
   ]
  },
  {
   "cell_type": "code",
   "execution_count": 140,
   "metadata": {},
   "outputs": [
    {
     "name": "stdout",
     "output_type": "stream",
     "text": [
      "30\n",
      "9\n"
     ]
    }
   ],
   "source": [
    "num_selected = num_scaled.drop(columns = cols_to_drop)\n",
    "corr = pd.concat([num_selected, target.TARGET_B], axis = 1).corr()\n",
    "# take out the columns with negative collinearity with target B\n",
    "negative_corr = corr.TARGET_B[corr.TARGET_B < 0].index.values.tolist()\n",
    "# take out the columns with awfully high collinearity with target B\n",
    "high_corr = corr.TARGET_B[corr.TARGET_B > .9].index.values.tolist()\n",
    "to_drop = negative_corr + high_corr\n",
    "print(len(num_selected.columns))\n",
    "for i in to_drop:\n",
    "    try:\n",
    "        num_selected = num_selected.drop(columns = i)\n",
    "    except:\n",
    "        pass\n",
    "corr = pd.concat([num_selected, target.TARGET_B], axis = 1).corr()\n",
    "print(len(num_selected.columns))"
   ]
  },
  {
   "cell_type": "code",
   "execution_count": 141,
   "metadata": {},
   "outputs": [
    {
     "data": {
      "image/png": "[encoded data removed]",
      "text/plain": [
       "<Figure size 1000x800 with 2 Axes>"
      ]
     },
     "metadata": {},
     "output_type": "display_data"
    }
   ],
   "source": [
    "# bruh it's deleting soooo many columns. not my fault, I started with 30 columns,\n",
    "# which I think is already plenty. not that I have any problem with that.\n",
    "# less columns, better looking heatmap, right? lets see\n",
    "import matplotlib.pyplot as plt\n",
    "import seaborn as sns\n",
    "fig, ax = plt.subplots(figsize=(10,8))\n",
    "ax = sns.heatmap(corr, annot=True)\n",
    "plt.show()"
   ]
  },
  {
   "cell_type": "code",
   "execution_count": null,
   "metadata": {},
   "outputs": [],
   "source": [
    "# gorgeous."
   ]
  },
  {
   "cell_type": "code",
   "execution_count": 142,
   "metadata": {},
   "outputs": [],
   "source": [
    "# remove these columns from X_train, X_test, and x_train_over\n",
    "to_drop = to_drop + cols_to_drop\n",
    "for i in to_drop:\n",
    "    try:\n",
    "        X_train = X_train.drop(columns = i)\n",
    "    except:\n",
    "        pass\n",
    "    try:\n",
    "        X_test = X_test.drop(columns = i)\n",
    "    except:\n",
    "        pass\n",
    "    try:\n",
    "        x_train_over = x_train_over.drop(columns = i)\n",
    "    except:\n",
    "        pass"
   ]
  },
  {
   "cell_type": "code",
   "execution_count": 144,
   "metadata": {},
   "outputs": [
    {
     "name": "stdout",
     "output_type": "stream",
     "text": [
      "55 55 55\n"
     ]
    }
   ],
   "source": [
    "print(len(x_train_over.columns), len(X_train.columns), len(X_test.columns))"
   ]
  },
  {
   "cell_type": "code",
   "execution_count": null,
   "metadata": {},
   "outputs": [],
   "source": [
    "# ready to rock."
   ]
  },
  {
   "attachments": {},
   "cell_type": "markdown",
   "metadata": {},
   "source": [
    "### getting results (2)\n",
    "sorry this is starting to look uglier and uglier"
   ]
  },
  {
   "cell_type": "code",
   "execution_count": 145,
   "metadata": {},
   "outputs": [],
   "source": [
    "scores2, preds_train2, preds_test2, confusion2 = run_pipeline_clf(x_train_over, X_train, X_test, y_train_over, y_test[[\"TARGET_B\"]])"
   ]
  },
  {
   "cell_type": "code",
   "execution_count": 146,
   "metadata": {},
   "outputs": [
    {
     "data": {
      "text/plain": [
       "{'decision_tree_clf': 0.966127775230477,\n",
       " 'logistic_regr': 0.5814535259083782,\n",
       " 'k_neighbors_clf': 0.9137214542720038,\n",
       " 'random_forest_clf': 0.5959011583326327}"
      ]
     },
     "execution_count": 146,
     "metadata": {},
     "output_type": "execute_result"
    }
   ],
   "source": [
    "scores2"
   ]
  },
  {
   "cell_type": "code",
   "execution_count": 147,
   "metadata": {},
   "outputs": [
    {
     "data": {
      "text/plain": [
       "{'decision_tree_clf': array([0, 0, 0, ..., 0, 0, 0], dtype=int64),\n",
       " 'logistic_regr': array([0, 0, 0, ..., 0, 0, 0], dtype=int64),\n",
       " 'k_neighbors_clf': array([0, 0, 0, ..., 0, 1, 0], dtype=int64),\n",
       " 'random_forest_clf': array([0, 0, 0, ..., 0, 0, 0], dtype=int64)}"
      ]
     },
     "execution_count": 147,
     "metadata": {},
     "output_type": "execute_result"
    }
   ],
   "source": [
    "preds_train2"
   ]
  },
  {
   "cell_type": "code",
   "execution_count": 148,
   "metadata": {},
   "outputs": [
    {
     "data": {
      "text/plain": [
       "{'decision_tree_clf': array([0, 0, 0, ..., 1, 0, 0], dtype=int64),\n",
       " 'logistic_regr': array([0, 0, 1, ..., 0, 0, 0], dtype=int64),\n",
       " 'k_neighbors_clf': array([0, 0, 0, ..., 0, 0, 0], dtype=int64),\n",
       " 'random_forest_clf': array([1, 0, 1, ..., 1, 1, 0], dtype=int64)}"
      ]
     },
     "execution_count": 148,
     "metadata": {},
     "output_type": "execute_result"
    }
   ],
   "source": [
    "preds_test2"
   ]
  },
  {
   "cell_type": "code",
   "execution_count": 149,
   "metadata": {},
   "outputs": [
    {
     "data": {
      "text/plain": [
       "{'decision_tree_clf': array([[17131,  1002],\n",
       "        [  899,    50]], dtype=int64),\n",
       " 'logistic_regr': array([[14472,  3661],\n",
       "        [  605,   344]], dtype=int64),\n",
       " 'k_neighbors_clf': array([[15586,  2547],\n",
       "        [  782,   167]], dtype=int64),\n",
       " 'random_forest_clf': array([[10771,  7362],\n",
       "        [  406,   543]], dtype=int64)}"
      ]
     },
     "execution_count": 149,
     "metadata": {},
     "output_type": "execute_result"
    }
   ],
   "source": [
    "confusion2"
   ]
  },
  {
   "cell_type": "code",
   "execution_count": null,
   "metadata": {},
   "outputs": [],
   "source": [
    "# discuss about the confusion matrix. or maybe read about it first.\n",
    "# I kinda forgot like almost all about it, hehe. moving on for now."
   ]
  },
  {
   "cell_type": "code",
   "execution_count": 151,
   "metadata": {},
   "outputs": [],
   "source": [
    "# concatenating the prediction to the original dataframe\n",
    "# concatenating X_train with y_train with preds_train2[\"random_forest_clf\"]\n",
    "# concatenating X_test with y_test with preds_test2[\"random_forest_clf\"]"
   ]
  },
  {
   "cell_type": "code",
   "execution_count": 182,
   "metadata": {},
   "outputs": [],
   "source": [
    "pred_train = pd.DataFrame(preds_train2[\"random_forest_clf\"], columns = [\"prediction\"])\n",
    "pred_test = pd.DataFrame(preds_test2[\"random_forest_clf\"], columns = [\"prediction\"])"
   ]
  },
  {
   "cell_type": "code",
   "execution_count": 183,
   "metadata": {},
   "outputs": [],
   "source": [
    "X_train = X_train.reset_index(drop = True)\n",
    "y_train = y_train.reset_index(drop = True)\n",
    "pred_train = pred_train.reset_index(drop = True)\n",
    "X_test = X_test.reset_index(drop = True)\n",
    "y_test = y_test.reset_index(drop = True)\n",
    "pred_test = pred_test.reset_index(drop = True)"
   ]
  },
  {
   "cell_type": "code",
   "execution_count": 184,
   "metadata": {},
   "outputs": [],
   "source": [
    "all_train = pd.concat([X_train, y_train, pred_train], axis = 1)\n",
    "all_test = pd.concat([X_test, y_test, pred_test], axis = 1)"
   ]
  },
  {
   "cell_type": "code",
   "execution_count": 185,
   "metadata": {},
   "outputs": [
    {
     "data": {
      "text/html": [
       "<div>\n",
       "<style scoped>\n",
       "    .dataframe tbody tr th:only-of-type {\n",
       "        vertical-align: middle;\n",
       "    }\n",
       "\n",
       "    .dataframe tbody tr th {\n",
       "        vertical-align: top;\n",
       "    }\n",
       "\n",
       "    .dataframe thead th {\n",
       "        text-align: right;\n",
       "    }\n",
       "</style>\n",
       "<table border=\"1\" class=\"dataframe\">\n",
       "  <thead>\n",
       "    <tr style=\"text-align: right;\">\n",
       "      <th></th>\n",
       "      <th>CLUSTER</th>\n",
       "      <th>DATASRCE</th>\n",
       "      <th>DOMAIN_B</th>\n",
       "      <th>ODATEW_YR</th>\n",
       "      <th>ODATEW_MM</th>\n",
       "      <th>DOB_YR</th>\n",
       "      <th>DOB_MM</th>\n",
       "      <th>MINRDATE_YR</th>\n",
       "      <th>MINRDATE_MM</th>\n",
       "      <th>MAXRDATE_YR</th>\n",
       "      <th>...</th>\n",
       "      <th>24</th>\n",
       "      <th>25</th>\n",
       "      <th>26</th>\n",
       "      <th>27</th>\n",
       "      <th>28</th>\n",
       "      <th>29</th>\n",
       "      <th>30</th>\n",
       "      <th>TARGET_B</th>\n",
       "      <th>TARGET_D</th>\n",
       "      <th>prediction</th>\n",
       "    </tr>\n",
       "  </thead>\n",
       "  <tbody>\n",
       "    <tr>\n",
       "      <th>0</th>\n",
       "      <td>0.673077</td>\n",
       "      <td>1.0</td>\n",
       "      <td>0.333333</td>\n",
       "      <td>0.214286</td>\n",
       "      <td>0.0</td>\n",
       "      <td>0.391753</td>\n",
       "      <td>0.090909</td>\n",
       "      <td>0.545455</td>\n",
       "      <td>0.818182</td>\n",
       "      <td>0.909091</td>\n",
       "      <td>...</td>\n",
       "      <td>1.0</td>\n",
       "      <td>0.0</td>\n",
       "      <td>0.0</td>\n",
       "      <td>0.0</td>\n",
       "      <td>0.0</td>\n",
       "      <td>1.0</td>\n",
       "      <td>0.0</td>\n",
       "      <td>0</td>\n",
       "      <td>0.0</td>\n",
       "      <td>0</td>\n",
       "    </tr>\n",
       "    <tr>\n",
       "      <th>1</th>\n",
       "      <td>0.423077</td>\n",
       "      <td>0.0</td>\n",
       "      <td>0.000000</td>\n",
       "      <td>0.714286</td>\n",
       "      <td>0.0</td>\n",
       "      <td>0.319588</td>\n",
       "      <td>0.000000</td>\n",
       "      <td>0.818182</td>\n",
       "      <td>0.181818</td>\n",
       "      <td>0.909091</td>\n",
       "      <td>...</td>\n",
       "      <td>0.0</td>\n",
       "      <td>0.0</td>\n",
       "      <td>1.0</td>\n",
       "      <td>0.0</td>\n",
       "      <td>0.0</td>\n",
       "      <td>0.0</td>\n",
       "      <td>0.0</td>\n",
       "      <td>0</td>\n",
       "      <td>0.0</td>\n",
       "      <td>0</td>\n",
       "    </tr>\n",
       "    <tr>\n",
       "      <th>2</th>\n",
       "      <td>0.192308</td>\n",
       "      <td>1.0</td>\n",
       "      <td>0.000000</td>\n",
       "      <td>0.928571</td>\n",
       "      <td>0.0</td>\n",
       "      <td>0.000000</td>\n",
       "      <td>0.090909</td>\n",
       "      <td>0.954545</td>\n",
       "      <td>0.090909</td>\n",
       "      <td>0.954545</td>\n",
       "      <td>...</td>\n",
       "      <td>0.0</td>\n",
       "      <td>0.0</td>\n",
       "      <td>0.0</td>\n",
       "      <td>0.0</td>\n",
       "      <td>1.0</td>\n",
       "      <td>0.0</td>\n",
       "      <td>0.0</td>\n",
       "      <td>0</td>\n",
       "      <td>0.0</td>\n",
       "      <td>0</td>\n",
       "    </tr>\n",
       "    <tr>\n",
       "      <th>3</th>\n",
       "      <td>0.307692</td>\n",
       "      <td>1.0</td>\n",
       "      <td>0.333333</td>\n",
       "      <td>0.571429</td>\n",
       "      <td>0.0</td>\n",
       "      <td>0.226804</td>\n",
       "      <td>0.818182</td>\n",
       "      <td>0.863636</td>\n",
       "      <td>0.909091</td>\n",
       "      <td>0.772727</td>\n",
       "      <td>...</td>\n",
       "      <td>0.0</td>\n",
       "      <td>0.0</td>\n",
       "      <td>0.0</td>\n",
       "      <td>0.0</td>\n",
       "      <td>1.0</td>\n",
       "      <td>0.0</td>\n",
       "      <td>0.0</td>\n",
       "      <td>0</td>\n",
       "      <td>0.0</td>\n",
       "      <td>0</td>\n",
       "    </tr>\n",
       "    <tr>\n",
       "      <th>4</th>\n",
       "      <td>0.576923</td>\n",
       "      <td>1.0</td>\n",
       "      <td>0.666667</td>\n",
       "      <td>0.785714</td>\n",
       "      <td>0.0</td>\n",
       "      <td>0.000000</td>\n",
       "      <td>0.090909</td>\n",
       "      <td>0.863636</td>\n",
       "      <td>0.636364</td>\n",
       "      <td>0.909091</td>\n",
       "      <td>...</td>\n",
       "      <td>0.0</td>\n",
       "      <td>0.0</td>\n",
       "      <td>1.0</td>\n",
       "      <td>0.0</td>\n",
       "      <td>0.0</td>\n",
       "      <td>0.0</td>\n",
       "      <td>0.0</td>\n",
       "      <td>0</td>\n",
       "      <td>0.0</td>\n",
       "      <td>1</td>\n",
       "    </tr>\n",
       "  </tbody>\n",
       "</table>\n",
       "<p>5 rows × 58 columns</p>\n",
       "</div>"
      ],
      "text/plain": [
       "    CLUSTER  DATASRCE  DOMAIN_B  ODATEW_YR  ODATEW_MM    DOB_YR    DOB_MM  \\\n",
       "0  0.673077       1.0  0.333333   0.214286        0.0  0.391753  0.090909   \n",
       "1  0.423077       0.0  0.000000   0.714286        0.0  0.319588  0.000000   \n",
       "2  0.192308       1.0  0.000000   0.928571        0.0  0.000000  0.090909   \n",
       "3  0.307692       1.0  0.333333   0.571429        0.0  0.226804  0.818182   \n",
       "4  0.576923       1.0  0.666667   0.785714        0.0  0.000000  0.090909   \n",
       "\n",
       "   MINRDATE_YR  MINRDATE_MM  MAXRDATE_YR  ...   24   25   26   27   28   29  \\\n",
       "0     0.545455     0.818182     0.909091  ...  1.0  0.0  0.0  0.0  0.0  1.0   \n",
       "1     0.818182     0.181818     0.909091  ...  0.0  0.0  1.0  0.0  0.0  0.0   \n",
       "2     0.954545     0.090909     0.954545  ...  0.0  0.0  0.0  0.0  1.0  0.0   \n",
       "3     0.863636     0.909091     0.772727  ...  0.0  0.0  0.0  0.0  1.0  0.0   \n",
       "4     0.863636     0.636364     0.909091  ...  0.0  0.0  1.0  0.0  0.0  0.0   \n",
       "\n",
       "    30  TARGET_B  TARGET_D  prediction  \n",
       "0  0.0         0       0.0           0  \n",
       "1  0.0         0       0.0           0  \n",
       "2  0.0         0       0.0           0  \n",
       "3  0.0         0       0.0           0  \n",
       "4  0.0         0       0.0           1  \n",
       "\n",
       "[5 rows x 58 columns]"
      ]
     },
     "metadata": {},
     "output_type": "display_data"
    },
    {
     "data": {
      "text/plain": [
       "(95410, 58)"
      ]
     },
     "metadata": {},
     "output_type": "display_data"
    }
   ],
   "source": [
    "df = pd.concat([all_train, all_test], axis = 0)\n",
    "display(df.head())\n",
    "display(df.shape)"
   ]
  },
  {
   "cell_type": "code",
   "execution_count": 186,
   "metadata": {},
   "outputs": [
    {
     "data": {
      "text/plain": [
       "Index([     'CLUSTER',     'DATASRCE',     'DOMAIN_B',    'ODATEW_YR',\n",
       "          'ODATEW_MM',       'DOB_YR',       'DOB_MM',  'MINRDATE_YR',\n",
       "        'MINRDATE_MM',  'MAXRDATE_YR',  'MAXRDATE_MM',  'LASTDATE_YR',\n",
       "        'LASTDATE_MM', 'FIRSTDATE_YR', 'FIRSTDATE_MM',      'POP90C1',\n",
       "                'DW1',          'HU3',          'HU4',        'HUPA2',\n",
       "              'HUPA3',          'MC1',     'RAMNTALL',     'NGIFTALL',\n",
       "                    0,              1,              2,              3,\n",
       "                    4,              5,              6,              7,\n",
       "                    8,              9,             10,             11,\n",
       "                   12,             13,             14,             15,\n",
       "                   16,             17,             18,             19,\n",
       "                   20,             21,             22,             23,\n",
       "                   24,             25,             26,             27,\n",
       "                   28,             29,             30,     'TARGET_B',\n",
       "           'TARGET_D',   'prediction'],\n",
       "      dtype='object')"
      ]
     },
     "execution_count": 186,
     "metadata": {},
     "output_type": "execute_result"
    }
   ],
   "source": [
    "df.columns"
   ]
  },
  {
   "cell_type": "code",
   "execution_count": 187,
   "metadata": {},
   "outputs": [
    {
     "data": {
      "text/plain": [
       "(39533, 58)"
      ]
     },
     "execution_count": 187,
     "metadata": {},
     "output_type": "execute_result"
    }
   ],
   "source": [
    "donating = df[df.prediction == 1]\n",
    "donating.shape"
   ]
  },
  {
   "cell_type": "code",
   "execution_count": 215,
   "metadata": {},
   "outputs": [
    {
     "data": {
      "text/plain": [
       "(4843, 58)"
      ]
     },
     "execution_count": 215,
     "metadata": {},
     "output_type": "execute_result"
    }
   ],
   "source": [
    "donated = df[df.TARGET_B == 1]\n",
    "donated.shape"
   ]
  },
  {
   "cell_type": "code",
   "execution_count": null,
   "metadata": {},
   "outputs": [],
   "source": [
    "# now that we have predicted people who would more likely to donate, we can go to...."
   ]
  },
  {
   "attachments": {},
   "cell_type": "markdown",
   "metadata": {},
   "source": [
    "## lab day 5"
   ]
  },
  {
   "cell_type": "code",
   "execution_count": null,
   "metadata": {},
   "outputs": [],
   "source": [
    "# we will train test with donated, the one whose TARGET_B == 1\n",
    "# and then use the model for donating, the one whose prediction == 1"
   ]
  },
  {
   "cell_type": "code",
   "execution_count": 189,
   "metadata": {},
   "outputs": [
    {
     "data": {
      "text/plain": [
       "Index([     'CLUSTER',     'DATASRCE',     'DOMAIN_B',    'ODATEW_YR',\n",
       "          'ODATEW_MM',       'DOB_YR',       'DOB_MM',  'MINRDATE_YR',\n",
       "        'MINRDATE_MM',  'MAXRDATE_YR',  'MAXRDATE_MM',  'LASTDATE_YR',\n",
       "        'LASTDATE_MM', 'FIRSTDATE_YR', 'FIRSTDATE_MM',      'POP90C1',\n",
       "                'DW1',          'HU3',          'HU4',        'HUPA2',\n",
       "              'HUPA3',          'MC1',     'RAMNTALL',     'NGIFTALL',\n",
       "                    0,              1,              2,              3,\n",
       "                    4,              5,              6,              7,\n",
       "                    8,              9,             10,             11,\n",
       "                   12,             13,             14,             15,\n",
       "                   16,             17,             18,             19,\n",
       "                   20,             21,             22,             23,\n",
       "                   24,             25,             26,             27,\n",
       "                   28,             29,             30,     'TARGET_B',\n",
       "           'TARGET_D',   'prediction'],\n",
       "      dtype='object')"
      ]
     },
     "execution_count": 189,
     "metadata": {},
     "output_type": "execute_result"
    }
   ],
   "source": [
    "donating.columns"
   ]
  },
  {
   "cell_type": "code",
   "execution_count": 216,
   "metadata": {},
   "outputs": [
    {
     "data": {
      "text/plain": [
       "Index([     'CLUSTER',     'DATASRCE',     'DOMAIN_B',    'ODATEW_YR',\n",
       "          'ODATEW_MM',       'DOB_YR',       'DOB_MM',  'MINRDATE_YR',\n",
       "        'MINRDATE_MM',  'MAXRDATE_YR',  'MAXRDATE_MM',  'LASTDATE_YR',\n",
       "        'LASTDATE_MM', 'FIRSTDATE_YR', 'FIRSTDATE_MM',      'POP90C1',\n",
       "                'DW1',          'HU3',          'HU4',        'HUPA2',\n",
       "              'HUPA3',          'MC1',     'RAMNTALL',     'NGIFTALL',\n",
       "                    0,              1,              2,              3,\n",
       "                    4,              5,              6,              7,\n",
       "                    8,              9,             10,             11,\n",
       "                   12,             13,             14,             15,\n",
       "                   16,             17,             18,             19,\n",
       "                   20,             21,             22,             23,\n",
       "                   24,             25,             26,             27,\n",
       "                   28,             29,             30,     'TARGET_B',\n",
       "           'TARGET_D',   'prediction'],\n",
       "      dtype='object')"
      ]
     },
     "execution_count": 216,
     "metadata": {},
     "output_type": "execute_result"
    }
   ],
   "source": [
    "donated.columns"
   ]
  },
  {
   "cell_type": "code",
   "execution_count": 238,
   "metadata": {},
   "outputs": [],
   "source": [
    "X = donated.drop(columns = [\"TARGET_D\", \"TARGET_B\", \"prediction\"]).copy()\n",
    "y = donated[\"TARGET_D\"]\n",
    "X_new = donating.drop(columns = [\"TARGET_D\", \"TARGET_B\", \"prediction\"]).copy()\n",
    "y_new = donating[\"TARGET_D\"]\n",
    "X_train, X_test, y_train, y_test = tts(X, y, test_size=0.2, random_state=23)\n"
   ]
  },
  {
   "cell_type": "code",
   "execution_count": 221,
   "metadata": {},
   "outputs": [],
   "source": [
    "to_scale = True\n",
    "to_encode = False\n",
    "X_train, X_test = processing(X_train, X_test, to_scale, to_encode)"
   ]
  },
  {
   "cell_type": "code",
   "execution_count": 206,
   "metadata": {},
   "outputs": [],
   "source": [
    "from sklearn.linear_model import LinearRegression\n",
    "from sklearn.tree import DecisionTreeRegressor\n",
    "from sklearn.neighbors import KNeighborsRegressor\n",
    "from sklearn.neural_network import MLPRegressor\n",
    "from sklearn.ensemble import RandomForestRegressor\n",
    "from sklearn.metrics import r2_score"
   ]
  },
  {
   "cell_type": "code",
   "execution_count": 254,
   "metadata": {},
   "outputs": [],
   "source": [
    "def run_pipeline_regr(X_train, X_test, X_new, y_train, y_test, y_new):\n",
    "    linreg = LinearRegression()\n",
    "    dtreg = DecisionTreeRegressor()\n",
    "    knreg = KNeighborsRegressor()\n",
    "    mlp = MLPRegressor(max_iter = 700)\n",
    "    rfreg = RandomForestRegressor()\n",
    "\n",
    "    model_pipeline = [linreg, dtreg, knreg, mlp, rfreg]\n",
    "    model_name = [\"linreg\",\"decision_tree_reg\",\"knn_reg\",\"mlp\",\"random_forest_reg\"]\n",
    "    # model_pipeline = [linreg]\n",
    "    # model_name = [\"linreg\"]\n",
    "    scores_train = {}\n",
    "    scores_test = {}\n",
    "    scores_new = {}\n",
    "    preds_train = {}\n",
    "    preds_test = {}\n",
    "    preds_new = {}\n",
    "    for i,j in zip(model_pipeline, model_name):\n",
    "        i.fit(X_train, y_train)\n",
    "        pred_train = i.predict(X_train)\n",
    "        preds_train[j] = pred_train\n",
    "        pred_test = i.predict(X_test)\n",
    "        preds_test[j] = pred_test\n",
    "        pred_new = i.predict(X_new)\n",
    "        preds_new[j] = pred_new\n",
    "        mean_score_train = np.mean(cross_val_score(i, X_train, y_train, cv = 5))\n",
    "        scores_train[j] = mean_score_train\n",
    "        mean_score_test = np.mean(cross_val_score(i, X_test, y_test, cv = 5))\n",
    "        scores_test[j] = mean_score_test\n",
    "        mean_score_new = np.mean(cross_val_score(i, X_new, y_new, cv = 5))\n",
    "        scores_new[j] = mean_score_new\n",
    "\n",
    "    return preds_train, preds_test, preds_new, scores_train, scores_test, scores_new"
   ]
  },
  {
   "cell_type": "code",
   "execution_count": 255,
   "metadata": {},
   "outputs": [
    {
     "name": "stderr",
     "output_type": "stream",
     "text": [
      "d:\\Python 3.10\\lib\\site-packages\\sklearn\\neural_network\\_multilayer_perceptron.py:702: ConvergenceWarning: Stochastic Optimizer: Maximum iterations (700) reached and the optimization hasn't converged yet.\n",
      "  warnings.warn(\n",
      "d:\\Python 3.10\\lib\\site-packages\\sklearn\\neural_network\\_multilayer_perceptron.py:702: ConvergenceWarning: Stochastic Optimizer: Maximum iterations (700) reached and the optimization hasn't converged yet.\n",
      "  warnings.warn(\n",
      "d:\\Python 3.10\\lib\\site-packages\\sklearn\\neural_network\\_multilayer_perceptron.py:702: ConvergenceWarning: Stochastic Optimizer: Maximum iterations (700) reached and the optimization hasn't converged yet.\n",
      "  warnings.warn(\n",
      "d:\\Python 3.10\\lib\\site-packages\\sklearn\\neural_network\\_multilayer_perceptron.py:702: ConvergenceWarning: Stochastic Optimizer: Maximum iterations (700) reached and the optimization hasn't converged yet.\n",
      "  warnings.warn(\n",
      "d:\\Python 3.10\\lib\\site-packages\\sklearn\\neural_network\\_multilayer_perceptron.py:702: ConvergenceWarning: Stochastic Optimizer: Maximum iterations (700) reached and the optimization hasn't converged yet.\n",
      "  warnings.warn(\n",
      "d:\\Python 3.10\\lib\\site-packages\\sklearn\\neural_network\\_multilayer_perceptron.py:702: ConvergenceWarning: Stochastic Optimizer: Maximum iterations (700) reached and the optimization hasn't converged yet.\n",
      "  warnings.warn(\n",
      "d:\\Python 3.10\\lib\\site-packages\\sklearn\\neural_network\\_multilayer_perceptron.py:702: ConvergenceWarning: Stochastic Optimizer: Maximum iterations (700) reached and the optimization hasn't converged yet.\n",
      "  warnings.warn(\n",
      "d:\\Python 3.10\\lib\\site-packages\\sklearn\\neural_network\\_multilayer_perceptron.py:702: ConvergenceWarning: Stochastic Optimizer: Maximum iterations (700) reached and the optimization hasn't converged yet.\n",
      "  warnings.warn(\n",
      "d:\\Python 3.10\\lib\\site-packages\\sklearn\\neural_network\\_multilayer_perceptron.py:702: ConvergenceWarning: Stochastic Optimizer: Maximum iterations (700) reached and the optimization hasn't converged yet.\n",
      "  warnings.warn(\n",
      "d:\\Python 3.10\\lib\\site-packages\\sklearn\\neural_network\\_multilayer_perceptron.py:702: ConvergenceWarning: Stochastic Optimizer: Maximum iterations (700) reached and the optimization hasn't converged yet.\n",
      "  warnings.warn(\n",
      "d:\\Python 3.10\\lib\\site-packages\\sklearn\\neural_network\\_multilayer_perceptron.py:702: ConvergenceWarning: Stochastic Optimizer: Maximum iterations (700) reached and the optimization hasn't converged yet.\n",
      "  warnings.warn(\n",
      "d:\\Python 3.10\\lib\\site-packages\\sklearn\\neural_network\\_multilayer_perceptron.py:702: ConvergenceWarning: Stochastic Optimizer: Maximum iterations (700) reached and the optimization hasn't converged yet.\n",
      "  warnings.warn(\n"
     ]
    }
   ],
   "source": [
    "preds_train_reg, preds_test_reg, preds_new_reg, scores_train, scores_test, scores_new = run_pipeline_regr(X_train, X_test, X_new, y_train, y_test, y_new)"
   ]
  },
  {
   "cell_type": "code",
   "execution_count": 256,
   "metadata": {},
   "outputs": [
    {
     "name": "stdout",
     "output_type": "stream",
     "text": [
      "{'linreg': 0.4296500478578711, 'decision_tree_reg': -0.31475898582213535, 'knn_reg': 0.21729196094065922, 'mlp': 0.2700376788255202, 'random_forest_reg': 0.42940437367822637}\n"
     ]
    }
   ],
   "source": [
    "print(scores_train)"
   ]
  },
  {
   "cell_type": "code",
   "execution_count": 257,
   "metadata": {},
   "outputs": [
    {
     "data": {
      "text/plain": [
       "{'linreg': 0.28534999081570545,\n",
       " 'decision_tree_reg': -0.3363527543504947,\n",
       " 'knn_reg': 0.13840883937991194,\n",
       " 'mlp': 0.09186337152537731,\n",
       " 'random_forest_reg': 0.2588626407156454}"
      ]
     },
     "execution_count": 257,
     "metadata": {},
     "output_type": "execute_result"
    }
   ],
   "source": [
    "scores_test"
   ]
  },
  {
   "cell_type": "code",
   "execution_count": 258,
   "metadata": {},
   "outputs": [
    {
     "data": {
      "text/plain": [
       "{'linreg': 0.006266983756293842,\n",
       " 'decision_tree_reg': -1.4547153579865557,\n",
       " 'knn_reg': -0.21004271789953935,\n",
       " 'mlp': -0.29447254039137305,\n",
       " 'random_forest_reg': -0.08310458979973671}"
      ]
     },
     "execution_count": 258,
     "metadata": {},
     "output_type": "execute_result"
    }
   ],
   "source": [
    "scores_new"
   ]
  },
  {
   "cell_type": "code",
   "execution_count": 247,
   "metadata": {},
   "outputs": [
    {
     "data": {
      "text/plain": [
       "{'linreg': array([ 8.6875, 26.3125, 11.5   , ..., 19.75  , 16.875 , 29.4375]),\n",
       " 'decision_tree_reg': array([10., 15., 10., ..., 20., 15., 25.]),\n",
       " 'knn_reg': array([ 9.2, 15.2,  9.3, ..., 19. , 19. , 22. ]),\n",
       " 'mlp': array([ 5.44866576, 24.18513976, 11.34284789, ..., 23.6001606 ,\n",
       "        14.64449538, 31.87497369]),\n",
       " 'random_forest_reg': array([10.31  , 21.43  , 10.015 , ..., 19.72  , 15.63  , 25.1221])}"
      ]
     },
     "execution_count": 247,
     "metadata": {},
     "output_type": "execute_result"
    }
   ],
   "source": [
    "preds_train_reg"
   ]
  },
  {
   "cell_type": "code",
   "execution_count": 248,
   "metadata": {},
   "outputs": [
    {
     "data": {
      "text/plain": [
       "{'linreg': array([ 3.26875e+01,  1.81875e+01,  1.41875e+01,  7.37500e+00,\n",
       "         6.93750e+00,  1.27500e+01,  2.55625e+01,  1.16875e+01,\n",
       "         1.61250e+01,  9.75000e+00,  1.79375e+01,  1.95000e+01,\n",
       "         1.11875e+01,  1.10625e+01,  1.00000e+01,  7.43750e+00,\n",
       "         1.13125e+01,  3.10000e+01,  1.80625e+01,  1.93750e+01,\n",
       "         3.66875e+01,  8.43750e+00,  2.97500e+01,  1.13125e+01,\n",
       "         1.95625e+01,  9.58125e+01,  9.00000e+00,  1.73750e+01,\n",
       "         1.88125e+01,  1.75625e+01,  7.87500e+00,  3.93750e+00,\n",
       "         7.06250e+00,  8.31250e+00,  9.68750e+00,  9.31250e+00,\n",
       "         1.58125e+01,  1.79375e+01,  2.41875e+01,  2.83125e+01,\n",
       "         8.81250e+00,  4.93750e+00,  9.68750e+00,  2.82500e+01,\n",
       "         6.93750e+00,  2.63125e+01,  1.83750e+01,  1.30625e+01,\n",
       "         1.74375e+01,  1.76875e+01,  1.56875e+01,  1.20625e+01,\n",
       "         1.38125e+01,  1.76250e+01,  1.63125e+01,  9.75000e+00,\n",
       "         7.00000e+00, -6.25000e-02,  1.18750e+01,  2.72500e+01,\n",
       "         7.06250e+00,  9.43750e+00,  1.13125e+01,  3.90000e+01,\n",
       "         1.69375e+01,  1.43125e+01,  9.93750e+00,  1.07500e+01,\n",
       "         1.40625e+01,  1.61875e+01,  6.43750e+00,  1.78125e+01,\n",
       "         1.18125e+01,  9.31250e+00,  1.73125e+01,  1.91875e+01,\n",
       "         7.18750e+00,  1.88750e+01,  1.10625e+01,  9.68750e+00,\n",
       "         6.81250e+00,  1.83750e+01,  1.17500e+01,  1.58750e+01,\n",
       "         1.15625e+01,  3.44375e+01,  3.13125e+01,  7.81250e+00,\n",
       "         1.21875e+01,  1.01875e+01,  9.87500e+00,  1.46875e+01,\n",
       "        -7.50000e-01,  1.64375e+01,  6.62500e+00,  1.80000e+01,\n",
       "         9.93750e+00,  7.68750e+00,  9.43750e+00,  7.93750e+00,\n",
       "         3.08750e+01,  2.04375e+01,  1.83125e+01,  7.00000e+00,\n",
       "         1.13750e+01,  2.88125e+01,  1.90625e+01,  1.96875e+01,\n",
       "         1.11875e+01,  1.62500e+01, -1.12500e+00,  1.78125e+01,\n",
       "         1.16250e+01,  1.06875e+01,  2.92500e+01,  1.63125e+01,\n",
       "         9.31250e+00,  1.79375e+01,  1.66875e+01,  3.18750e+00,\n",
       "         1.83125e+01,  1.82500e+01,  6.06250e+00,  1.30000e+01,\n",
       "         1.46250e+01,  1.68125e+01,  1.23750e+01,  1.66250e+01,\n",
       "         1.16875e+01,  1.73125e+01,  1.53750e+01,  1.69375e+01,\n",
       "         3.18750e+01,  1.82500e+01,  1.09375e+01,  1.65625e+01,\n",
       "         1.49375e+01,  1.36250e+01,  8.18750e+00,  1.35625e+01,\n",
       "         6.25000e+00,  1.21250e+01,  1.80625e+01,  7.56250e+00,\n",
       "         1.12500e+01,  3.56250e+00,  3.13125e+01,  1.51875e+01,\n",
       "         1.07500e+01,  1.28125e+01,  1.66250e+01,  1.50625e+01,\n",
       "         9.12500e+00,  1.25000e+01,  1.04375e+01,  2.18750e+00,\n",
       "         1.50625e+01,  1.69375e+01,  1.79375e+01,  1.21875e+01,\n",
       "         1.54375e+01,  8.93750e+00,  1.49375e+01,  1.58125e+01,\n",
       "         1.10625e+01,  1.73125e+01,  1.65625e+01,  1.66250e+01,\n",
       "         1.80625e+01,  1.83750e+01,  8.25000e+00,  1.64375e+01,\n",
       "         1.60625e+01,  8.43750e+00,  1.91875e+01,  2.18750e+00,\n",
       "         2.64375e+01,  1.50625e+01,  1.78125e+01,  1.48125e+01,\n",
       "         1.43125e+01,  1.70625e+01,  1.54375e+01,  2.91875e+01,\n",
       "         3.52500e+01,  1.68125e+01,  1.69375e+01,  1.72500e+01,\n",
       "         8.12500e-01,  3.07500e+01,  6.18750e+00,  8.31250e+00,\n",
       "         7.93750e+00,  1.65625e+01,  9.81250e+00,  4.22500e+01,\n",
       "         1.46250e+01,  1.49375e+01,  1.64375e+01,  2.70625e+01,\n",
       "         1.55625e+01,  1.75625e+01,  2.74375e+01,  1.14375e+01,\n",
       "         3.00625e+01,  8.43750e+00,  1.38750e+01,  1.28125e+01,\n",
       "         1.16875e+01,  4.81250e+00,  1.48125e+01,  1.17500e+01,\n",
       "         1.71875e+01,  1.01875e+01,  1.58750e+01,  8.68750e+00,\n",
       "         1.30000e+01,  1.17500e+01,  2.68125e+01,  1.48125e+01,\n",
       "         1.80625e+01,  1.35000e+01,  1.60625e+01,  6.56250e+00,\n",
       "         1.73125e+01,  1.78125e+01,  1.78125e+01,  1.58750e+01,\n",
       "         1.28125e+01,  5.31250e+00,  9.87500e+00,  3.96875e+01,\n",
       "         1.75625e+01,  9.43750e+00,  1.83125e+01,  1.61875e+01,\n",
       "         1.46875e+01,  1.73125e+01,  1.60625e+01,  1.56875e+01,\n",
       "         1.00000e+01,  1.75625e+01,  1.08125e+01,  3.27500e+01,\n",
       "         9.37500e+00,  1.14375e+01,  7.06250e+00,  1.55625e+01,\n",
       "         1.16875e+01,  2.85000e+01,  7.25000e+00,  2.79375e+01,\n",
       "         1.75625e+01,  1.30625e+01,  8.43750e+00,  1.70000e+01,\n",
       "         2.74375e+01,  6.81250e+00,  1.55000e+01,  8.06250e+00,\n",
       "         1.36250e+01,  1.33750e+01,  1.85000e+01,  7.56250e+00,\n",
       "         1.60625e+01,  2.98750e+01,  2.68125e+01,  1.58750e+01,\n",
       "         7.56250e+00,  1.82500e+01,  1.69375e+01,  2.03750e+01,\n",
       "         2.58125e+01,  1.66875e+01,  1.75000e+01,  1.14375e+01,\n",
       "         1.85000e+01,  3.31875e+01,  1.73125e+01,  3.41875e+01,\n",
       "         6.93750e+00, -3.06250e+00,  1.33125e+01,  1.79375e+01,\n",
       "         9.00000e+00,  1.62500e+01,  1.64375e+01,  1.74375e+01,\n",
       "         1.91875e+01,  1.68125e+01,  5.06250e+00,  1.69375e+01,\n",
       "         2.97500e+01,  1.78125e+01,  1.30625e+01,  2.93125e+01,\n",
       "         2.70625e+01,  9.56250e+00,  1.81250e+01,  1.66875e+01,\n",
       "         1.04375e+01,  6.31250e+00,  1.63125e+01,  3.03125e+01,\n",
       "         6.56250e+00,  1.00000e+01,  4.75000e+00,  2.83125e+01,\n",
       "         1.18125e+01,  6.56250e+00,  1.24375e+01,  2.13125e+01,\n",
       "         8.06250e+00,  2.37500e+01,  8.50000e+00,  6.43750e+00,\n",
       "         1.71875e+01,  1.40625e+01,  6.81250e+00,  1.79375e+01,\n",
       "         8.56250e+00,  1.50625e+01,  7.18750e+00,  1.65625e+01,\n",
       "         2.96250e+01,  9.81250e+00,  9.75000e+00,  8.31250e+00,\n",
       "         1.81875e+01,  7.31250e+00,  1.60625e+01,  1.14375e+01,\n",
       "         9.18750e+00,  7.18750e+00,  1.79375e+01,  1.80000e+01,\n",
       "         1.15625e+01,  1.11875e+01,  2.91250e+01,  1.47500e+01,\n",
       "         1.11875e+01,  1.63125e+01,  7.43750e+00,  2.00625e+01,\n",
       "         1.73125e+01,  9.06250e+00,  1.40000e+01,  1.26875e+01,\n",
       "         1.01250e+01,  8.56250e+00,  1.11875e+01,  5.81250e+00,\n",
       "         3.26250e+01,  1.17500e+01,  6.06250e+00,  8.87500e+00,\n",
       "         3.28750e+01,  7.18750e+00,  9.68750e+00,  2.96875e+01,\n",
       "         1.20625e+01,  1.75000e+01,  9.81250e+00,  1.48125e+01,\n",
       "         2.69375e+01,  1.73125e+01,  9.81250e+00,  1.90000e+01,\n",
       "         4.18750e+00,  1.61250e+01,  1.65625e+01,  1.78750e+01,\n",
       "         1.61875e+01,  1.10625e+01,  9.25000e+00,  1.80625e+01,\n",
       "         1.49375e+01,  4.93750e+00,  1.24375e+01,  1.74375e+01,\n",
       "         1.14375e+01,  1.75000e+01,  1.03125e+01,  1.78125e+01,\n",
       "         1.58125e+01,  1.95625e+01,  8.37500e+00,  1.88750e+01,\n",
       "         1.83125e+01,  1.74375e+01,  9.37500e+00,  1.70625e+01,\n",
       "         2.00625e+01,  1.10625e+01,  1.57500e+01,  9.68750e+00,\n",
       "         6.56250e+00,  1.64375e+01,  1.59375e+01,  1.48125e+01,\n",
       "         1.03125e+01,  3.09375e+01,  1.34375e+01,  2.76875e+01,\n",
       "         1.53125e+01,  1.26875e+01,  1.54375e+01,  7.06250e+00,\n",
       "         1.81250e+00,  3.01875e+01,  1.70625e+01,  1.00625e+01,\n",
       "         1.06875e+01,  7.81250e+00,  9.68750e+00,  2.83125e+01,\n",
       "         1.57500e+01,  1.10625e+01,  1.00000e+01,  1.73750e+01,\n",
       "         1.93125e+01,  1.48750e+01,  1.07500e+01,  7.93750e+00,\n",
       "         2.50000e+00,  1.65625e+01,  1.73125e+01,  2.93125e+01,\n",
       "         1.58750e+01,  2.64375e+01,  1.80625e+01,  1.13750e+01,\n",
       "         1.69375e+01,  1.84375e+01,  9.12500e+00,  2.75000e+01,\n",
       "         1.21250e+01,  1.65625e+01,  1.76875e+01,  1.16250e+01,\n",
       "         8.68750e+00,  2.00000e+00,  5.56250e+00,  3.57500e+01,\n",
       "         1.65000e+01,  1.90625e+01,  2.86250e+01,  3.25625e+01,\n",
       "         1.19375e+01,  1.69375e+01,  8.31250e+00,  1.58125e+01,\n",
       "         1.18750e+00,  1.75000e+01,  1.51875e+01,  4.00625e+01,\n",
       "         1.58125e+01,  1.63750e+01,  1.79375e+01,  1.64375e+01,\n",
       "         1.55000e+01,  1.64375e+01,  2.24375e+01,  1.16875e+01,\n",
       "         1.74375e+01,  4.25000e+00,  1.68750e+01, -4.37500e-01,\n",
       "         1.08125e+01,  1.80625e+01,  1.55625e+01,  1.95625e+01,\n",
       "         1.58125e+01,  8.50000e+00,  3.08125e+01,  9.18125e+01,\n",
       "         1.61875e+01,  1.53125e+01,  3.88125e+01,  1.96875e+01,\n",
       "         1.58125e+01,  1.71875e+01,  5.56250e+00,  6.93750e+00,\n",
       "         9.37500e+00, -6.87500e-01,  1.75625e+01,  2.23125e+01,\n",
       "         1.25625e+01,  6.81250e+00,  1.58125e+01,  1.67500e+01,\n",
       "         4.29375e+01,  1.11875e+01,  1.65000e+01,  1.68125e+01,\n",
       "         1.06250e+01,  1.65000e+01,  1.68125e+01,  1.64375e+01,\n",
       "         1.50625e+01,  2.94375e+01,  8.18750e+00,  7.00000e+00,\n",
       "         1.75000e+01,  1.91875e+01,  1.25625e+01,  1.70000e+01,\n",
       "         1.24375e+01,  1.83750e+01,  1.00625e+01,  1.25625e+01,\n",
       "         1.79375e+01,  3.17500e+01,  1.61875e+01,  1.66875e+01,\n",
       "         1.21250e+01,  1.66875e+01,  1.64375e+01,  1.83125e+01,\n",
       "         1.16875e+01,  9.62500e+00,  4.66250e+01, -5.62500e-01,\n",
       "         1.66875e+01,  1.07500e+01,  1.65625e+01,  2.81250e+01,\n",
       "         1.78750e+01,  1.72500e+01,  1.51875e+01,  1.81250e+01,\n",
       "         2.54375e+01,  1.10625e+01,  1.55000e+01,  1.56875e+01,\n",
       "         3.50625e+01,  9.75000e+00,  6.18750e+00,  1.51875e+01,\n",
       "         7.06250e+00,  3.30000e+01,  1.90625e+01,  1.61875e+01,\n",
       "         3.25000e+00,  1.70000e+01,  4.18750e+00,  1.20625e+01,\n",
       "         1.10625e+01,  3.12500e+01,  6.56250e+00,  1.16875e+01,\n",
       "         1.00625e+01,  1.15000e+01,  1.43125e+01,  1.59375e+01,\n",
       "         1.75000e+01,  6.68750e+00,  1.88750e+01,  1.23750e+01,\n",
       "         3.00625e+01,  6.06250e+00,  1.09375e+01,  1.58750e+01,\n",
       "         1.80625e+01,  1.01875e+01,  9.62500e+00,  1.79375e+01,\n",
       "         1.61875e+01,  1.68125e+01,  1.63750e+01,  6.68750e+00,\n",
       "         1.01875e+01,  5.18750e+00,  1.20000e+01,  1.83750e+01,\n",
       "         9.75000e+00,  1.87500e+01,  8.81250e+00,  2.75625e+01,\n",
       "         8.31250e+00,  7.31250e+00,  8.43750e+00,  9.93750e+00,\n",
       "         1.95000e+01,  7.43750e+00,  2.64375e+01,  8.62500e+00,\n",
       "         5.75000e+00,  1.69375e+01,  1.00625e+01,  2.78125e+01,\n",
       "         1.63750e+01,  1.70000e+01,  9.25000e+00,  1.56875e+01,\n",
       "         1.59375e+01,  1.46875e+01,  1.03125e+01,  1.59375e+01,\n",
       "         4.50000e+00,  6.62500e+00,  2.43750e+00,  2.61875e+01,\n",
       "         1.81250e+00,  8.56250e+00,  1.71875e+01,  1.59375e+01,\n",
       "         8.43750e+00,  1.55625e+01,  2.75625e+01,  1.53125e+01,\n",
       "         1.91250e+01,  2.13750e+01,  2.70625e+01,  1.81875e+01,\n",
       "         1.08750e+01,  1.08750e+01,  1.10625e+01,  1.19375e+01,\n",
       "         1.64375e+01,  1.84375e+01,  9.62500e+00,  1.23125e+01,\n",
       "         1.40000e+01,  1.66875e+01,  2.92500e+01,  3.00625e+01,\n",
       "         1.20000e+01,  1.68750e+01,  5.56250e+00,  1.68125e+01,\n",
       "         2.34375e+01,  2.03125e+01,  1.78125e+01,  9.43750e+00,\n",
       "         7.37500e+00,  1.16875e+01,  7.43750e+00,  1.61875e+01,\n",
       "         1.80000e+01,  1.95000e+01,  1.19375e+01,  1.40625e+01,\n",
       "         6.75000e+00,  9.62500e+00,  2.96875e+01,  9.81250e+00,\n",
       "         1.97500e+01,  3.19375e+01,  3.29375e+01,  1.06875e+01,\n",
       "         1.18125e+01,  1.75000e+01,  1.50625e+01,  1.18125e+01,\n",
       "         2.14375e+01,  1.71250e+01,  1.81875e+01,  1.81875e+01,\n",
       "        -9.43750e+00,  3.31875e+01,  4.16875e+01,  2.90000e+01,\n",
       "         1.48750e+01,  3.59375e+01,  1.71875e+01,  9.06250e+00,\n",
       "         1.08125e+01,  2.51250e+01,  4.18750e+00,  9.56250e+00,\n",
       "         1.93125e+01,  1.98750e+01,  1.01250e+01,  3.93750e+00,\n",
       "         1.11875e+01,  1.88750e+01,  1.03125e+01,  1.99375e+01,\n",
       "         2.80625e+01,  1.80625e+01,  2.93125e+01,  1.14375e+01,\n",
       "         9.93750e+00,  1.91875e+01,  1.68750e+01, -8.12500e-01,\n",
       "         1.31250e+00,  3.06250e+00,  7.18750e+00,  7.50000e+00,\n",
       "         7.06250e+00,  6.75000e+00,  1.68125e+01,  1.59375e+01,\n",
       "         1.59375e+01,  1.43125e+01,  1.67500e+01,  1.31250e+01,\n",
       "         1.23125e+01,  1.68125e+01,  3.03750e+01,  8.62500e+00,\n",
       "        -3.56250e+00,  3.00625e+01,  1.76875e+01,  1.16875e+01,\n",
       "         6.18750e+00,  1.64375e+01,  1.71250e+01,  8.75000e+00,\n",
       "         4.56250e+00,  4.93750e+00,  1.98750e+01,  1.86875e+01,\n",
       "         2.76250e+01,  1.58750e+01,  1.83125e+01,  8.62500e+00,\n",
       "         9.81250e+00,  2.90625e+01,  1.20625e+01,  8.12500e+00,\n",
       "         8.18750e+00,  1.49375e+01,  1.91875e+01,  9.37500e+00,\n",
       "         1.38125e+01,  2.05000e+01,  1.38125e+01,  1.65000e+01,\n",
       "         8.93750e+00,  5.56250e+00,  9.06250e+00,  1.58125e+01,\n",
       "         1.74375e+01,  1.80000e+01,  1.10625e+01,  1.61875e+01,\n",
       "         1.90000e+01,  4.25000e+00,  1.45625e+01,  1.65625e+01,\n",
       "         1.33125e+01,  2.63125e+01,  1.19375e+01,  3.04375e+01,\n",
       "         1.01875e+01,  9.18750e+00,  1.13125e+01,  3.05625e+01,\n",
       "         2.50000e+01,  2.68750e+00,  1.25625e+01,  1.83750e+01,\n",
       "         1.54375e+01,  1.12500e+01,  1.71875e+01,  1.37500e+01,\n",
       "         1.61875e+01,  1.50625e+01,  2.93125e+01,  1.81875e+01,\n",
       "         1.59375e+01,  1.04375e+01,  3.04375e+01,  1.55625e+01,\n",
       "         1.70000e+01,  1.51875e+01,  1.30000e+01,  3.00000e+01,\n",
       "         6.50000e+00,  1.51875e+01,  8.68750e+00,  1.67500e+01,\n",
       "         9.06250e+00, -4.06250e+00,  1.69375e+01,  1.26875e+01,\n",
       "         1.59375e+01,  1.82500e+01,  1.13125e+01,  1.99375e+01,\n",
       "         2.10625e+01,  2.76875e+01,  1.56875e+01,  1.81250e+00,\n",
       "         8.31250e+00,  9.06250e+00,  1.45625e+01,  1.57500e+01,\n",
       "         1.06250e+01,  1.21875e+01,  1.70000e+01,  2.76250e+01,\n",
       "         1.82500e+01,  5.50000e+00,  5.31250e+00,  1.20625e+01,\n",
       "         1.35625e+01, -3.75000e+00,  1.85625e+01,  1.69375e+01,\n",
       "         6.56250e+00,  4.31250e+00,  1.78125e+01,  9.81250e+00,\n",
       "         1.54375e+01,  1.18125e+01,  7.56250e+00,  1.10625e+01,\n",
       "         8.31250e+00,  6.25000e+00,  6.18750e+00,  6.56250e+00,\n",
       "         1.00000e+01,  1.56875e+01,  2.81250e+00,  1.51875e+01,\n",
       "         1.66875e+01,  6.18750e+00,  1.56875e+01,  1.65625e+01,\n",
       "         9.50000e+00,  2.85625e+01,  3.93750e+00,  1.78125e+01,\n",
       "         9.43750e+00,  9.25000e+00,  9.75000e+00,  1.78125e+01,\n",
       "         5.00000e-01,  1.84375e+01,  1.36250e+01,  1.63125e+01,\n",
       "         1.20625e+01,  1.13750e+01,  1.05625e+01,  1.25625e+01,\n",
       "         1.71250e+01,  9.37500e+00,  1.74375e+01,  1.83125e+01,\n",
       "         1.14375e+01,  9.18750e+00,  1.18125e+01,  1.69375e+01,\n",
       "         1.96875e+01,  9.50000e+00,  5.18750e+00,  3.69375e+01,\n",
       "         1.77500e+01,  1.66875e+01,  8.68750e+00,  1.79375e+01,\n",
       "         7.56250e+00,  1.87500e+01,  1.03125e+01,  2.05625e+01,\n",
       "         1.85625e+01,  1.89375e+01,  2.92500e+01,  6.81250e+00,\n",
       "         2.83125e+01,  1.55000e+01,  1.60625e+01,  1.78750e+01,\n",
       "         1.60000e+01,  2.08125e+01,  9.62500e+00,  1.65625e+01,\n",
       "         1.84375e+01,  7.50000e+00,  1.74375e+01,  7.81250e+00,\n",
       "         1.10625e+01,  1.63125e+01,  1.61875e+01,  3.93750e+00,\n",
       "         1.08750e+01,  1.65625e+01,  2.31250e+00,  1.41875e+01,\n",
       "         1.40625e+01,  1.70000e+01,  1.75000e+01,  1.03750e+01,\n",
       "         7.56250e+00,  2.70000e+01,  1.60625e+01,  5.37500e+00,\n",
       "         1.58125e+01,  1.33750e+01,  1.74375e+01,  8.81250e+00,\n",
       "         7.31250e+00,  1.29375e+01,  2.66875e+01,  3.04375e+01,\n",
       "         8.56250e+00,  1.04375e+01,  5.93750e+00,  1.77500e+01,\n",
       "         9.43750e+00,  7.12500e+00,  8.68750e+00,  1.28750e+01,\n",
       "         1.75625e+01,  1.91250e+01,  9.31250e+00,  7.06250e+00,\n",
       "         1.61875e+01,  1.53125e+01,  1.53750e+01,  5.18750e+00,\n",
       "         2.06875e+01,  1.80625e+01,  1.74375e+01,  2.76875e+01,\n",
       "         1.01875e+01,  1.63125e+01,  1.20625e+01,  1.04375e+01,\n",
       "         1.06250e+00,  2.12500e+01,  2.06250e+00,  1.85625e+01,\n",
       "         1.77500e+01,  1.69375e+01,  1.86875e+01,  3.10000e+01,\n",
       "         1.65625e+01,  2.09375e+01,  1.90625e+01,  1.75625e+01,\n",
       "         6.43750e+00,  1.88125e+01,  2.89375e+01, -1.06250e+00,\n",
       "         1.01875e+01, -3.68750e+00,  1.86250e+01,  2.66250e+01,\n",
       "         2.60000e+01,  9.06250e+00,  1.50625e+01,  1.66875e+01,\n",
       "         2.75625e+01,  3.26875e+01,  6.62500e+00,  1.14375e+01,\n",
       "         1.67500e+01,  1.00625e+01,  7.37500e+00,  1.86250e+01,\n",
       "         1.75625e+01,  1.43125e+01,  4.50000e+00,  3.61250e+01,\n",
       "         1.81875e+01,  2.93750e+01,  1.14375e+01,  2.58125e+01,\n",
       "         6.25000e+00,  1.70000e+01,  1.10625e+01,  1.68125e+01,\n",
       "         9.00000e+00]),\n",
       " 'decision_tree_reg': array([ 50. ,  21. ,  25. ,   9. ,   7. ,  10. ,  35. ,   4. ,   2.5,\n",
       "          5. ,  15. ,  15. ,   8. ,  10. ,   4.5,   3. ,   7. ,  12. ,\n",
       "         21. ,  21. , 100. ,  15. ,  18. ,  10. ,  20. , 200. ,  14. ,\n",
       "         20. ,  15. ,  20. ,   7. ,   5. ,  10. ,   6. ,   5. ,   5. ,\n",
       "         20. ,  15. ,  35. ,  20. ,   7. ,  12. ,   5. ,  35. ,  10. ,\n",
       "         25. ,  21. ,  20. ,  10. ,  10. ,  11. ,   6. ,   7. ,   5. ,\n",
       "         10. ,  14. ,   3. ,   3. ,  18. ,  25. ,  15. ,   5. ,   5. ,\n",
       "         35. ,  20. ,  10. ,   8. ,  11. ,  10. ,   5. ,   7. ,  25. ,\n",
       "         14. ,   5. ,  15. ,  10. ,   9. ,  15. ,  12. ,  11. ,   8. ,\n",
       "         17. ,   8. ,  25. ,   5. ,  25. ,   5. ,   7. ,  10. ,   3. ,\n",
       "         10. ,  14. ,   6. ,  17. ,   4. ,  35. ,  20. ,  10. ,  10. ,\n",
       "         10. ,  25. ,  15. ,  20. ,   5. ,  10. ,  46. ,  17. ,  25. ,\n",
       "         10. ,  20. ,   3. ,  20. ,  11. ,  10. ,   5. ,  21. ,   3. ,\n",
       "         15. ,  15. ,   5. ,  16. ,  14. ,   5. ,  12. ,  15. ,  50. ,\n",
       "          9. ,  19. ,  10. ,  10. ,  15. ,  20. ,  30. ,  15. ,  10. ,\n",
       "         27. ,  13. ,  14. ,  10. ,  10. ,  15. ,  10. ,  20. ,  10. ,\n",
       "         20. ,   3. ,  25. ,  10. ,  11. ,   7. ,  30. ,  21. ,  11. ,\n",
       "          7. ,  10. ,   6. ,  21. ,  10. ,   7. ,  10. ,  17. ,   7. ,\n",
       "         17. ,  20. ,  10. ,  10. ,  10. ,  10. ,  50. ,  10. ,   8. ,\n",
       "         15. ,  10. ,   5. ,  15. ,   7. ,  20. ,  16. ,  15. ,  10. ,\n",
       "         10. ,  20. ,  17. ,  40. ,  25. ,  23. ,  35. ,  15. ,   7. ,\n",
       "         40. ,  10. ,  11. ,  14. ,  15. ,  10. ,  50. ,  15. ,  15. ,\n",
       "         20. ,  25. ,  10. ,  15. ,  10. ,  10. ,  50. ,  12. ,  16. ,\n",
       "          5. ,  20. ,  10. ,  20. ,  10. ,  20. ,  10. ,  20. ,   6. ,\n",
       "         10. ,  10. ,  10. ,   5. ,  15. ,  10. ,  16. ,   5. ,   5. ,\n",
       "         15. ,  28. ,  25. ,  10. ,   5. ,   5. , 100. ,  20. ,   8. ,\n",
       "         15. ,  10. ,  10. ,  20. ,  10. ,  21. ,   8. ,  18. ,   7. ,\n",
       "         20. ,  10. ,  11. ,   5. ,  17. ,  15. ,  35. ,   5. ,  20. ,\n",
       "         21. ,  15. ,  10. ,   5. , 100. ,   3. ,  15. ,  20. ,  10. ,\n",
       "          5. ,  23. ,   7. ,  15. ,   5. ,  22. ,  20. ,  11. ,  15. ,\n",
       "         10. ,  25. ,  22. ,  15. ,  20. ,   9. ,  20. ,  25. ,  20. ,\n",
       "         25. ,   6. ,   5. ,  11. ,  15. ,  11. ,  14. ,  12. ,  20. ,\n",
       "         17. ,  15. ,   5. ,  15. ,  15. ,  15. ,   5. ,  55. ,  30. ,\n",
       "         10. ,   3. ,  20. ,  12. ,   7.5,  25. ,  25. ,  10. ,   6. ,\n",
       "          5. ,  25. ,  10. ,   5. ,  10. ,  16. ,   5. ,  22. ,  10. ,\n",
       "          5. ,   5. ,   5. ,   6. ,  50. ,  12. ,  12. ,   5. ,   5. ,\n",
       "         10. ,  14. ,   5. ,  12. ,  15. ,   6. ,  20. ,  12. ,   5. ,\n",
       "          5. ,  22. ,  16. ,   6. ,  13. ,  25. ,  19. ,   5. ,  15. ,\n",
       "         10. ,  30. ,  30. ,  14. ,  10. ,  10. ,   8. ,  10. ,  15. ,\n",
       "          8. ,  25. ,  11. ,  10. ,  15. ,  25. ,   6. ,   5. ,  50. ,\n",
       "         15. ,  20. ,  13. ,  20. ,  40. ,  20. ,  12. ,  15. ,   5. ,\n",
       "         11. ,  15. ,  25. ,  14. ,  10. ,  11. ,  15. ,  10. ,   6. ,\n",
       "          5. ,  20. ,   8. ,  17. ,  10. ,  15. ,  12. ,  14. ,   8. ,\n",
       "         10. ,  20. ,   2.5,  10. ,  19. ,  15. ,  12.5,  20. ,  10. ,\n",
       "          5. ,  20. ,  12. ,  17. ,   3. ,  25. ,   5. ,  25. ,  12. ,\n",
       "         10. ,  15. ,  10. ,   2. ,  50. ,  50. ,   6. ,  10. ,   4. ,\n",
       "          5. ,  30. ,  13. ,   5. ,  12. ,  22. ,   8. ,  30. ,  20. ,\n",
       "          5. ,   3. ,  15. ,  30. ,  37. ,  10. ,  40. ,  25. ,  10. ,\n",
       "         18. ,  19. ,  10. ,  10. ,  10. ,  10. ,  10. ,   5. ,  12. ,\n",
       "          5. ,   8. ,  25. ,  10. ,  15. ,   6. ,  25. ,   6. ,  10. ,\n",
       "         14. ,  10. ,   5. ,  30. ,  20. ,  25. ,  15. ,  15. ,  15. ,\n",
       "         15. ,  16. ,  12. ,  20. ,  10. ,  17.5,   4. ,  30. ,  17. ,\n",
       "          6. ,  20. ,  20. ,   5. ,   2.5,  11. ,  25. , 102. ,  20. ,\n",
       "         15. ,  15. ,  15. ,  15. ,  20. ,   6. ,  15. ,  10. ,   3. ,\n",
       "         21. ,  20. ,   7. ,   3. ,  25. ,  16. ,  10. ,  10. ,  10. ,\n",
       "         20. ,  12. ,  22. ,  20. ,  20. ,  15. ,  30. ,   5. ,   8. ,\n",
       "         16. ,  15. ,  25. ,  25. ,  14. ,   8. ,  12.5,   5. ,  12. ,\n",
       "         25. ,  51. ,  23. ,  10. ,  17. ,  15. ,  20. ,  11. ,  12. ,\n",
       "         53. ,   5. ,  30. ,  15. ,  25. ,  21. ,  15. ,  14. ,  13. ,\n",
       "         20. ,  30. ,   5. ,  15. ,  15. ,  10. ,  10. ,   5. ,  15. ,\n",
       "          5. ,   5. ,  25. ,  11. ,  10. ,  15. ,   7. ,   8. ,  11. ,\n",
       "         25. ,  10. ,  11. ,  10. ,  15. ,  10. ,  19. ,  50. ,   5. ,\n",
       "         25. ,   5. ,  35. ,   5. ,  10. ,  10. ,  25. ,   6. ,  12. ,\n",
       "         15. ,  25. ,  25. ,  15. ,   5. ,   5. ,  10. ,  10. ,  17. ,\n",
       "         10. ,  20. ,  10. ,  25. ,   3. ,   7. ,  20. ,  10. ,  40. ,\n",
       "         10. ,  15. ,   9. ,   5. ,  12. ,   8. ,  30. ,  20. ,  20. ,\n",
       "          5. ,  15. ,  15. ,  10. ,  10. ,  10. ,  16. ,   6. ,   4. ,\n",
       "         50. ,   9. ,  10. ,  30. ,  10. ,   8. ,  20. ,  25. ,  14. ,\n",
       "         32. ,  18. ,  10. ,  25. ,  10. ,  12. ,   7. ,  10. ,   5. ,\n",
       "         12. ,  12. ,   5. ,  20. ,  20. ,  45. ,  28. ,   5. ,  15. ,\n",
       "          5. ,  15. ,  20. ,  15. ,  12. ,  10. ,   5. ,   3. ,   8. ,\n",
       "         50. ,  20. ,  20. ,   8. ,   5. ,   4. ,  10. ,  38. ,  10. ,\n",
       "         25. ,  10. ,  25. ,  10. ,  15. ,  20. ,  15. ,  10. ,  18. ,\n",
       "         18. ,  12.5,  10. ,   8. ,  25. ,  50. ,  25. ,  10. ,  45. ,\n",
       "         22. ,   5. ,  10. ,  15. ,  10. ,   5. ,  10. ,  35. ,   6. ,\n",
       "          7. ,  10. ,  25. ,  10. ,  20. ,  25. ,  20. ,  40. ,   8. ,\n",
       "          3. ,  25. ,  20. ,  11. ,   6. ,   3. ,  20. ,   9. ,  12. ,\n",
       "          6. ,  20. ,  15. ,   5. ,  20. ,  21. ,  30. ,  10. ,  25. ,\n",
       "         25. ,  12. ,   3. ,  30. ,  18. ,  11. ,   6. ,   7. ,  16. ,\n",
       "         20. ,   5. ,  10. ,  25. ,  30. ,  10. ,  23. ,  20. ,   8. ,\n",
       "          6. ,  45. ,  10. ,   5. ,  15. ,  10. ,  21. ,  10. ,  20. ,\n",
       "         10. ,  15. ,  21. ,  10. ,   5. ,  12. ,  10. ,  15. ,  21. ,\n",
       "          7. ,  20. ,  25. ,   8. ,  15. ,  17. ,  18. ,  15. ,  10. ,\n",
       "         25. ,  15. ,   9. ,  19. ,  25. ,  35. ,   5. ,   5. ,  25. ,\n",
       "         15. ,   9. ,  25. ,  15. ,  20. ,  12. ,   6. ,  20. ,  15. ,\n",
       "         15. ,  50. ,  16. ,  20. ,  19. ,  20. ,  10. ,   5. ,  21. ,\n",
       "         12. ,  20. ,  10. ,   3. ,  25. ,  23. ,  21. ,  15. ,  10. ,\n",
       "         15. ,  15. ,  25. ,  14. ,   3. ,   3. ,   9. ,  16. ,  15. ,\n",
       "          6. ,  14. ,  16. ,  20. ,  25. ,   5. ,  10. ,  10. ,  25. ,\n",
       "          3. ,  23. ,  10. ,   7. ,   5. ,  10. ,  12. ,  20. ,  10. ,\n",
       "          7. ,  16. ,  10. ,   3. ,   5. ,   4. ,  10. ,  13. ,  17. ,\n",
       "         25. ,  16. ,   4. ,  10. ,  25. ,  10. ,  30. ,   5. ,  15. ,\n",
       "         15. ,  11. ,  11. ,  20. ,   8. ,  10. ,  20. ,  12. ,  10. ,\n",
       "         12.5,   5. ,  10. ,  10. ,  24. ,  25. ,  25. ,   6. ,  15. ,\n",
       "          8. ,  15. ,  10. ,  11. ,   7. , 100. ,   5. ,  35. ,  10. ,\n",
       "         20. ,  10. ,  20. ,  11. ,  10. ,  15. ,  20. ,  35. ,  12.5,\n",
       "         30. ,  15. ,  21. ,  25. ,  20. ,  17. ,  12. ,  21. ,  22. ,\n",
       "         10. ,  20. ,   7. ,  18. ,  16. ,  25. ,   5. ,  11. ,  20. ,\n",
       "          5. ,  10. ,  10. ,  20. ,  22. ,  16. ,   9. ,  25. ,  21. ,\n",
       "          4. ,  17. ,  13. ,  25. ,  12. ,   5. ,  20. ,  20. ,  50. ,\n",
       "         10. ,  15. ,   5. ,  38. ,   9. ,   7. ,  13. ,  12.5,   8. ,\n",
       "         15. ,  12. ,  10. ,  20. ,  22. ,  20. ,   5. ,  20. ,  20. ,\n",
       "         20. ,  30. ,   8. ,  13. ,  15. ,  10. ,   5. ,  10. ,  11. ,\n",
       "         20. ,  25. ,  10. ,  12. ,  42. ,  15. ,  20. ,  15. ,  20. ,\n",
       "          5. ,  15. ,  26. ,   5. ,  10. ,   5. ,  20. ,  20. ,  25. ,\n",
       "         20. ,  21. ,  20. , 100. ,  40. ,   7. ,  10. ,  15. ,  10. ,\n",
       "          5. ,  50. ,  20. ,  20. ,   5. ,  35. ,  15. ,  25. ,  10. ,\n",
       "         10. ,   5. ,  15. ,  10. ,  15. ,  10. ]),\n",
       " 'knn_reg': array([14.8  , 16.2  , 19.2  ,  7.6  ,  7.2  , 10.2  , 27.2  ,  9.2  ,\n",
       "        12.5  ,  7.2  , 15.4  , 12.7  , 11.2  ,  9.2  , 11.8  ,  9.6  ,\n",
       "        11.4  , 32.   , 16.2  , 21.   , 35.   , 10.8  , 17.8  , 12.2  ,\n",
       "        12.4  , 21.   , 11.   , 16.2  , 17.   , 15.4  ,  9.   ,  6.   ,\n",
       "        13.   , 10.2  ,  9.4  ,  5.8  , 18.2  , 12.4  , 13.   , 21.2  ,\n",
       "        11.   , 12.5  ,  4.8  , 25.   ,  8.6  , 29.8  , 17.   , 15.4  ,\n",
       "        20.1  , 17.8  , 22.   , 11.2  , 17.8  , 18.8  , 15.2  , 10.   ,\n",
       "         6.8  ,  8.774, 16.   , 35.2  ,  9.   ,  9.6  , 10.2  , 26.   ,\n",
       "        14.6  , 10.4  , 13.   ,  9.8  , 19.6  , 13.1  ,  6.2  , 13.   ,\n",
       "        10.4  ,  6.   , 18.2  , 20.8  , 10.   , 16.   ,  8.8  , 11.54 ,\n",
       "        15.6  , 16.8  , 10.6  , 15.6  , 13.8  , 25.2  , 22.4  , 14.2  ,\n",
       "         9.8  , 11.   , 10.2  , 10.   ,  4.8  , 16.8  ,  6.2  , 16.6  ,\n",
       "         8.8  , 11.   ,  8.8  , 10.4  , 47.8  , 20.8  , 16.2  ,  5.2  ,\n",
       "        10.2  , 14.2  , 19.4  , 13.   ,  5.4  , 19.   ,  6.2  , 11.   ,\n",
       "         9.8  , 12.6  , 31.6  , 15.4  , 11.8  , 15.   , 24.   ,  5.8  ,\n",
       "        19.2  , 23.6  , 10.8  ,  9.2  , 16.4  , 17.2  , 13.6  , 17.6  ,\n",
       "        13.2  , 16.2  , 15.   , 26.2  , 29.   , 22.   , 11.2  , 17.4  ,\n",
       "        20.   , 10.   ,  9.6  , 26.8  , 11.   , 14.4  , 14.4  ,  8.6  ,\n",
       "        18.2  ,  9.   , 34.94 , 13.6  ,  8.6  , 14.2  , 17.2  , 16.8  ,\n",
       "        13.4  , 14.4  , 12.8  ,  5.6  , 16.   , 11.   , 21.   , 12.1  ,\n",
       "        15.6  ,  4.4  , 19.8  , 16.6  , 18.   , 18.   , 24.6  , 23.4  ,\n",
       "        18.   , 16.   ,  5.8  , 14.6  , 15.   ,  8.6  , 20.8  ,  4.8  ,\n",
       "        36.2  , 16.6  , 14.   , 17.   , 11.8  , 18.65 , 13.6  , 21.4  ,\n",
       "        27.   , 13.4  , 18.8  , 19.   ,  8.   , 39.4  , 11.4  ,  7.2  ,\n",
       "         8.8  , 16.6  , 12.   , 37.2  , 17.   , 20.8  , 15.2  , 23.4  ,\n",
       "        12.6  , 10.8  , 28.   , 10.6  , 33.6  , 12.2  , 20.2  , 12.8  ,\n",
       "        27.8  ,  9.8  , 13.   , 12.2  , 18.4  , 11.4  , 18.2  , 10.4  ,\n",
       "         9.8  , 12.6  , 34.   , 17.4  , 16.   , 12.4  , 16.6  ,  5.   ,\n",
       "        20.2  , 23.   , 19.2  , 17.   ,  9.2  , 11.   , 10.2  , 26.2  ,\n",
       "        19.4  ,  8.2  , 21.4  , 19.   , 19.   , 16.4  , 21.6  , 14.   ,\n",
       "        14.   , 18.6  , 11.   , 36.6  ,  8.8  , 10.8  , 11.6  , 20.   ,\n",
       "        10.   , 36.   ,  6.   , 17.6  , 21.6  , 10.8  ,  6.6  , 15.8  ,\n",
       "        22.6  ,  7.8  , 16.2  , 12.   ,  9.8  , 15.   , 22.   ,  8.   ,\n",
       "        17.6  , 28.2  , 24.2  , 16.7  , 11.4  , 21.2  , 15.4  , 16.2  ,\n",
       "        31.2  , 19.8  , 17.6  , 10.   , 19.   , 29.8  , 20.2  , 27.   ,\n",
       "        10.6  ,  5.2  , 11.8  , 13.8  , 15.8  , 15.2  , 17.2  , 14.4  ,\n",
       "        14.2  , 16.   ,  8.2  , 19.4  , 22.4  , 14.4  , 27.6  , 35.2  ,\n",
       "        36.   ,  9.6  , 23.   , 19.   ,  8.8  , 21.   , 17.6  , 24.4  ,\n",
       "         8.4  , 10.6  , 13.4  , 44.6  ,  9.   ,  5.8  , 13.   , 18.4  ,\n",
       "         8.   , 18.8  , 11.   ,  5.8  , 20.   , 21.   , 16.4  , 15.   ,\n",
       "         8.   , 26.   ,  6.4  , 20.4  , 17.4  ,  9.8  ,  6.8  ,  6.6  ,\n",
       "        23.6  ,  6.   , 14.6  ,  9.   ,  8.8  ,  6.8  , 16.   , 17.2  ,\n",
       "         9.6  ,  8.8  , 35.6  , 14.   , 13.6  , 20.8  , 10.8  , 17.6  ,\n",
       "        20.4  ,  9.6  , 12.8  , 11.   , 16.4  ,  8.8  , 11.4  ,  5.8  ,\n",
       "        44.4  , 11.8  ,  8.4  , 11.4  , 27.   ,  7.2  ,  9.2  , 33.2  ,\n",
       "        10.4  , 16.2  , 14.2  , 18.4  , 14.2  , 13.   , 13.4  , 19.   ,\n",
       "         5.2  , 13.1  , 14.6  , 16.   , 21.2  ,  9.   , 13.   , 15.4  ,\n",
       "        16.6  ,  9.4  , 10.4  , 15.4  ,  9.4  , 17.   , 11.2  , 16.8  ,\n",
       "        18.   , 17.6  , 13.2  , 18.2  , 16.4  , 14.8  , 13.2  , 25.   ,\n",
       "        14.2  , 13.   , 12.8  ,  9.2  ,  5.   , 15.2  , 17.   , 17.4  ,\n",
       "         6.8  , 45.   , 10.8  , 20.6  , 13.2  ,  9.2  , 21.6  ,  5.4  ,\n",
       "        13.8  , 18.6  , 15.5  ,  6.8  ,  9.   ,  7.6  ,  5.   , 19.2  ,\n",
       "        20.4  , 10.6  ,  8.6  , 25.2  , 18.8  , 14.4  , 17.   ,  9.   ,\n",
       "         7.3  , 13.   , 20.   , 26.8  , 15.4  , 29.6  , 15.   ,  8.6  ,\n",
       "        17.5  , 20.2  , 10.8  , 38.4  ,  8.4  , 17.2  , 18.2  ,  9.6  ,\n",
       "         9.2  ,  9.   ,  8.   , 32.6  , 14.4  , 13.6  , 38.2  , 45.6  ,\n",
       "        10.2  , 20.8  ,  9.6  , 17.4  ,  5.4  , 16.2  ,  9.2  , 27.4  ,\n",
       "        13.   , 15.2  , 16.8  , 21.   , 14.   ,  9.6  , 18.8  , 10.   ,\n",
       "        17.2  ,  9.6  , 13.   , 12.2  ,  9.2  , 15.4  , 14.   , 15.6  ,\n",
       "        20.6  ,  9.8  , 21.6  , 22.4  , 19.   , 16.   , 56.   , 16.2  ,\n",
       "        19.4  , 17.2  ,  6.2  ,  9.   ,  7.6  ,  7.4  , 19.   , 14.6  ,\n",
       "         9.2  ,  7.4  , 20.4  , 17.6  , 21.6  ,  9.2  , 16.2  , 17.6  ,\n",
       "        10.4  , 23.6  , 15.4  , 15.   , 16.8  , 24.2  , 11.8  , 11.6  ,\n",
       "        20.4  , 16.4  , 11.8  , 15.1  , 10.   , 12.8  , 10.6  , 10.2  ,\n",
       "        23.2  , 28.6  , 16.   , 14.   , 15.2  , 20.2  , 19.   , 22.6  ,\n",
       "        11.   , 12.6  , 20.   ,  4.2  , 22.   , 11.4  , 15.2  , 21.   ,\n",
       "        17.   , 19.   , 15.   , 17.6  , 14.6  ,  9.4  , 16.6  , 18.8  ,\n",
       "        15.2  ,  8.2  ,  5.   , 19.2  ,  5.8  , 28.4  , 16.   , 14.4  ,\n",
       "         6.2  , 20.   , 11.6  ,  9.6  , 10.2  , 26.   , 10.6  , 10.6  ,\n",
       "        12.4  , 11.2  , 14.   , 15.   , 20.   ,  7.8  , 16.2  , 15.4  ,\n",
       "        25.4  ,  7.8  , 12.4  , 23.   , 10.2  ,  9.8  ,  9.8  , 11.6  ,\n",
       "        19.8  , 18.2  , 17.   ,  9.584,  7.8  ,  8.4  ,  8.4  , 21.4  ,\n",
       "         9.2  , 20.2  ,  9.4  , 23.   ,  9.4  ,  8.4  ,  9.2  , 12.4  ,\n",
       "        25.6  ,  9.4  , 27.8  ,  6.2  ,  8.4  , 16.   , 11.1  , 36.   ,\n",
       "        12.6  , 20.4  , 10.2  , 19.   , 18.   , 20.   , 10.   , 13.6  ,\n",
       "         9.   ,  5.8  , 26.   , 10.4  ,  5.4  ,  9.6  , 16.85 , 13.6  ,\n",
       "         5.4  , 15.   , 17.6  , 16.6  , 16.8  , 12.   , 25.2  , 15.   ,\n",
       "         9.4  , 10.   , 10.   ,  9.2  , 17.2  , 15.   , 12.2  , 12.6  ,\n",
       "        17.4  , 13.   , 30.   , 27.8  ,  9.6  , 33.6  ,  5.4  , 13.   ,\n",
       "        15.   , 12.2  , 20.6  , 12.   ,  6.4  , 26.   , 11.4  , 18.   ,\n",
       "        20.2  , 21.2  ,  9.6  , 11.4  ,  5.8  ,  9.6  , 21.   ,  9.4  ,\n",
       "        17.8  , 25.   , 31.   , 12.   , 10.4  , 12.4  , 16.8  ,  9.   ,\n",
       "        15.8  , 17.2  , 17.6  , 27.8  ,  8.4  , 13.2  , 20.8  , 39.   ,\n",
       "         8.8  , 27.6  , 16.6  ,  9.   , 13.4  , 11.   ,  4.   ,  5.   ,\n",
       "        20.4  , 25.   ,  8.6  ,  5.6  ,  7.4  , 21.8  ,  7.2  , 17.4  ,\n",
       "        23.   , 20.   , 20.   , 11.2  ,  7.4  , 19.6  , 13.   , 11.2  ,\n",
       "         5.6  ,  5.8  ,  8.4  ,  6.   ,  9.8  ,  7.2  , 15.   , 15.   ,\n",
       "        17.   , 25.2  , 16.   ,  9.   , 10.6  , 19.2  , 28.   ,  7.3  ,\n",
       "         5.2  , 28.8  , 13.   ,  9.2  ,  7.2  , 16.   , 18.6  , 13.6  ,\n",
       "         5.2  ,  7.4  , 21.   , 17.   , 32.4  , 10.8  , 13.6  , 10.8  ,\n",
       "        10.   , 17.4  , 13.2  ,  8.4  ,  5.8  , 12.4  , 19.4  ,  9.4  ,\n",
       "        14.2  , 17.   , 11.8  , 13.   , 13.4  ,  5.   , 10.4  , 21.   ,\n",
       "        15.8  , 25.   , 17.2  , 16.   , 17.2  ,  5.4  , 12.8  , 11.6  ,\n",
       "        11.   , 23.   ,  9.   , 16.8  ,  9.   ,  9.8  , 10.   , 71.6  ,\n",
       "        40.2  ,  5.6  ,  9.8  , 25.8  , 16.2  , 10.4  , 14.85 , 14.6  ,\n",
       "        16.2  , 16.2  , 14.4  , 14.4  , 18.4  ,  8.4  , 29.   , 19.   ,\n",
       "        23.2  , 18.2  , 11.4  , 17.6  ,  3.8  , 26.   ,  9.6  , 14.6  ,\n",
       "        18.4  ,  4.8  , 14.4  , 19.8  , 21.6  , 18.2  , 10.8  , 12.2  ,\n",
       "        15.   , 27.2  , 13.   ,  6.8  ,  7.4  , 10.   , 17.   , 14.8  ,\n",
       "        10.6  , 24.2  , 16.8  , 19.   , 14.8  ,  6.   , 10.6  ,  8.6  ,\n",
       "        14.   ,  6.8  , 15.2  , 17.2  ,  5.4  ,  7.4  , 17.   ,  9.6  ,\n",
       "        24.   , 15.   , 25.8  ,  9.6  ,  6.4  , 14.   , 11.   ,  6.8  ,\n",
       "        10.8  , 20.6  , 17.8  , 15.8  , 17.4  ,  4.8  , 16.   , 24.4  ,\n",
       "         8.8  , 13.14 ,  5.   , 18.   ,  9.6  , 11.   , 10.6  , 14.2  ,\n",
       "         7.1  ,  9.6  , 12.2  , 13.2  , 12.4  ,  9.   ,  8.6  ,  9.6  ,\n",
       "        21.4  , 11.6  , 12.   , 16.4  , 13.2  , 15.   , 12.8  , 16.8  ,\n",
       "        15.   , 12.4  ,  5.6  , 37.2  , 21.4  , 21.   ,  8.8  , 19.2  ,\n",
       "         4.2  , 17.4  ,  9.4  , 16.6  , 19.6  , 12.2  , 31.2  , 11.3  ,\n",
       "        35.6  , 14.6  , 18.8  , 20.2  , 21.4  , 20.4  ,  7.2  , 12.   ,\n",
       "        14.4  ,  7.2  , 15.   ,  5.6  ,  8.6  , 18.6  , 16.6  ,  5.8  ,\n",
       "        11.4  , 12.4  ,  5.4  ,  9.8  , 12.   , 15.6  , 15.   ,  9.   ,\n",
       "        11.2  , 25.   , 18.   ,  8.8  , 17.   , 11.4  , 11.   , 10.8  ,\n",
       "         4.8  , 14.   , 37.   , 28.   ,  9.7  , 15.2  ,  7.   , 17.8  ,\n",
       "        13.4  ,  4.4  , 19.2  , 12.65 , 21.2  , 18.2  , 12.2  , 11.6  ,\n",
       "        16.   , 14.8  , 17.   ,  5.   , 15.4  , 12.85 , 14.5  , 22.   ,\n",
       "        12.4  , 15.6  ,  8.8  ,  9.   ,  7.6  , 21.6  ,  9.   , 17.   ,\n",
       "        19.2  , 13.6  , 17.8  , 44.   , 17.   , 15.   , 14.8  , 21.6  ,\n",
       "         6.984, 18.8  , 38.442,  5.8  ,  9.   ,  4.6  , 13.6  , 39.4  ,\n",
       "        23.6  , 14.2  , 13.6  , 14.6  , 25.6  , 25.6  ,  7.6  , 10.8  ,\n",
       "        15.   ,  7.   ,  5.6  , 23.   , 22.   , 14.4  ,  7.6  , 38.6  ,\n",
       "        15.6  , 32.2  , 14.2  , 24.6  ,  7.1  , 18.4  , 10.5  , 19.   ,\n",
       "         8.6  ]),\n",
       " 'mlp': array([ 1.86468204e+01,  1.32246536e+01,  8.09849063e+00,  8.36421324e+00,\n",
       "         1.07114398e+01,  1.57890700e+01,  3.90480723e+01,  1.28965379e+01,\n",
       "         1.75486307e+01,  1.18471357e+01,  1.54167658e+01,  2.19429858e+01,\n",
       "         1.03057527e+01,  7.83254729e+00,  9.35683693e+00,  1.43728276e+01,\n",
       "         1.07457908e+01,  2.94354035e+01,  2.19572099e+01,  2.47175445e+01,\n",
       "         3.88810062e+01,  1.03313168e+01,  2.37647101e+01,  4.12763004e+00,\n",
       "         1.91501066e+01,  8.47431830e+01,  1.15131863e+01,  2.61094012e+01,\n",
       "         1.42839534e+01,  1.57067515e+01,  1.06471574e+01,  8.19422499e+00,\n",
       "         1.37917751e+01,  1.20704176e+01,  1.32423759e+01,  4.24223886e+00,\n",
       "         1.61965884e+01,  2.00817575e+01,  2.17396813e+01,  3.88738850e+01,\n",
       "         1.53878652e+01,  5.50458624e+00,  5.29850979e+00,  3.75789348e+01,\n",
       "         1.38237353e+01,  1.71255519e+01,  2.24412691e+01,  1.17912540e+01,\n",
       "         2.16881489e+01,  2.01797345e+01,  2.02478841e+01,  1.43448581e+01,\n",
       "         2.03076240e+01,  1.77945395e+01,  1.56014934e+01,  1.35299936e+01,\n",
       "         3.63301321e+00,  1.68244294e-02,  1.45551534e+01,  3.44347228e+01,\n",
       "         7.25956208e+00,  1.28545975e+01,  1.45966104e+01,  4.40031309e+01,\n",
       "         2.11720401e+01,  1.68359499e+01,  7.40908951e+00,  1.57222267e+01,\n",
       "         1.22902309e+01,  2.09160801e+01,  1.00500389e+00,  1.74582985e+01,\n",
       "         6.66909267e+00, -7.33750321e-01,  1.42611286e+01,  1.93654845e+01,\n",
       "         1.46499177e+01,  1.78861623e+01,  1.50771168e+01,  1.26575186e+01,\n",
       "         7.36430956e+00,  1.49315784e+01,  1.14173350e+01,  1.33840103e+01,\n",
       "         7.36686904e+00,  2.69789885e+01,  2.09156794e+01,  1.09624567e+01,\n",
       "         1.28440667e+01,  1.30682942e+01,  9.80474145e+00,  1.34434513e+01,\n",
       "         5.26170893e+00,  1.77220746e+01,  6.42458818e+00,  1.98531727e+01,\n",
       "         8.80775130e+00,  1.02666358e+01,  1.16114752e+01,  6.42771026e+00,\n",
       "         2.91929539e+01,  2.48684354e+01,  2.38929330e+01,  4.87600842e+00,\n",
       "         1.33399103e+01,  2.24767222e+01,  1.68996826e+01,  1.61606116e+01,\n",
       "         1.55910788e+01,  1.59528103e+01,  1.57301335e+00,  8.29808719e+00,\n",
       "         1.49126556e+01,  8.65499426e+00,  2.41304457e+01,  1.57033023e+01,\n",
       "         1.43350683e+01,  1.52128943e+01,  2.32978879e+01,  4.20811865e+00,\n",
       "         1.99795402e+01,  1.82664726e+01,  8.58977407e+00,  8.34633696e+00,\n",
       "         2.58234420e+01,  1.60547902e+01,  8.46929664e+00,  1.72231671e+01,\n",
       "         1.00738841e+01,  1.16748431e+01,  1.52794333e+01,  1.99913042e+01,\n",
       "         3.51901685e+01,  2.04730413e+01,  1.54492933e+01,  1.50516759e+01,\n",
       "         1.36708334e+01,  1.47006490e+01,  1.07417183e+01,  1.93759806e+01,\n",
       "         1.30865768e+01,  1.22315114e+01,  2.65690116e+01,  8.88197582e+00,\n",
       "         9.09894299e+00,  8.86167173e+00,  4.47037183e+01,  1.51322597e+01,\n",
       "         9.98737242e+00,  1.25549418e+01,  1.30492107e+01,  9.05807625e+00,\n",
       "         1.11517575e+01,  1.27863668e+01,  8.73215070e+00,  3.09921418e+00,\n",
       "         1.67149071e+01,  1.51625697e+01,  1.44300705e+01,  9.19023427e+00,\n",
       "         2.13328947e+01,  9.18761120e+00,  1.88174043e+01,  2.15338091e+01,\n",
       "         1.59288232e+01,  1.86846859e+01,  1.73566642e+01,  1.54000470e+01,\n",
       "         2.47501452e+01,  1.90054919e+01,  1.08326682e+01,  1.86869032e+01,\n",
       "         1.79015149e+01,  8.89058423e+00,  2.39347972e+01,  5.06852273e+00,\n",
       "         2.28483597e+01,  1.52164301e+01,  1.54513931e+01,  1.74111974e+01,\n",
       "         2.01581020e+01,  1.68437795e+01,  1.89693944e+01,  3.60502035e+01,\n",
       "         3.68000988e+01,  4.66330928e+00,  1.99870871e+01,  2.03004955e+01,\n",
       "         8.24540483e+00,  3.96260612e+01,  9.10745432e+00,  4.66069659e+00,\n",
       "         8.74071922e+00,  1.70477277e+01,  1.14652014e+01,  4.33847597e+01,\n",
       "         2.06712155e+01,  1.76408051e+01,  2.09092699e+01,  2.60467714e+01,\n",
       "         1.28829677e+01,  1.38623277e+01,  2.72461922e+01,  1.42091374e+01,\n",
       "         2.74498956e+01,  1.03216833e+01,  7.67228022e+00,  1.65167117e+01,\n",
       "         1.52974651e+01,  8.17010807e+00,  1.66485859e+01,  1.09404710e+01,\n",
       "         2.20374907e+01,  1.02430319e+01,  2.01979614e+01,  1.18087691e+01,\n",
       "         1.39602370e+01,  1.69050173e+01,  3.09070124e+01,  1.34028834e+01,\n",
       "         1.88475123e+01,  1.44277299e+01,  1.46110246e+01,  5.84756191e+00,\n",
       "         2.00615099e+01,  1.78529321e+01,  2.11672822e+01,  1.99232232e+01,\n",
       "         1.02641474e+01,  7.12139453e+00,  1.51420180e+01,  3.46528850e+01,\n",
       "         2.31478728e+01,  5.69513893e+00,  2.27840091e+01,  1.71872697e+01,\n",
       "         1.43581714e+01,  1.24630453e+01,  2.24174556e+01,  1.81094831e+01,\n",
       "         1.47287058e+01,  2.21936993e+01,  8.63598198e+00,  4.41260319e+01,\n",
       "         9.01513487e+00,  1.24663078e+01,  5.08958549e+00,  2.04783305e+01,\n",
       "         1.59134293e+01,  2.42572813e+01,  9.12958360e+00,  1.67509810e+01,\n",
       "         1.35292313e+01,  1.42253046e+01,  7.71265941e+00,  1.68135495e+01,\n",
       "         3.39710470e+01,  9.05595205e+00,  1.45938171e+01,  1.53325425e+01,\n",
       "         1.87222078e+01,  1.45490752e+01,  1.95091591e+01,  8.90586318e+00,\n",
       "         1.84691523e+01,  1.45555455e+01,  2.83742401e+01,  1.81426043e+01,\n",
       "         1.84724555e+01,  1.72670542e+01,  1.62619441e+01,  1.86371860e+01,\n",
       "         3.37682411e+01,  1.80658359e+01,  2.47757748e+01,  7.96831206e+00,\n",
       "         2.12775685e+01,  2.88275413e+01,  1.97859625e+01,  3.04455327e+01,\n",
       "         5.97534211e+00, -9.11554729e-01,  1.11661974e+01,  2.04746181e+01,\n",
       "         1.03218527e+01,  2.65672881e+01,  1.74739050e+01,  1.99333165e+01,\n",
       "         1.67222519e+01,  1.61624067e+01,  8.84867440e+00,  1.93338272e+01,\n",
       "         1.54216938e+01,  1.89555949e+01,  1.90962401e+01,  2.11291799e+01,\n",
       "         2.80718717e+01,  7.69214307e+00,  3.05652777e+01,  1.92365677e+01,\n",
       "         1.15851927e+01,  9.71301708e+00,  1.38670106e+01,  4.08806594e+01,\n",
       "         1.06779748e+01,  1.69585887e+01,  1.01591334e+01,  4.43055238e+01,\n",
       "         7.00001873e+00,  8.27692082e+00,  1.20794766e+01,  1.87515919e+01,\n",
       "         1.06418621e+01,  1.90985833e+01,  1.34433491e+01,  5.46427103e+00,\n",
       "         1.99189815e+01,  1.97687025e+01,  2.30371263e+00,  1.38514525e+01,\n",
       "         1.05377214e+01,  2.01463892e+01,  7.30524304e+00,  2.19191983e+01,\n",
       "         1.33010814e+01,  1.15466563e+01,  5.25030102e+00,  9.64035290e+00,\n",
       "         1.39915429e+01,  4.94093777e+00,  1.06575855e+01,  1.58754787e+01,\n",
       "         1.15840049e+01,  9.63322631e+00,  8.47909717e+00,  2.14650786e+01,\n",
       "         8.60781287e+00,  1.19579922e+01,  3.55693770e+01,  9.78228540e+00,\n",
       "         7.22669302e+00,  1.99802494e+01,  7.90207351e+00,  2.16497357e+01,\n",
       "         2.06349690e+01,  1.45957491e+01,  1.51837994e+01,  9.61810111e+00,\n",
       "         1.48977066e+01,  8.72396925e+00,  1.59155626e+01,  8.72990007e+00,\n",
       "         4.49758151e+01,  1.62398803e+01,  8.06836767e+00,  6.43669058e+00,\n",
       "         2.80219510e+01,  1.04723736e+01,  1.30491936e+01,  2.23612070e+01,\n",
       "         7.27387038e+00,  1.94205617e+01,  1.10091652e+01,  1.72656972e+01,\n",
       "         3.51453983e+01,  1.56944930e+01,  1.09568636e+01,  1.82536197e+01,\n",
       "         2.18159707e+00,  1.48558299e+01,  1.25302363e+01,  2.16275214e+01,\n",
       "         2.25404738e+01,  8.62773293e+00,  1.02061017e+01,  1.57579000e+01,\n",
       "         2.10400995e+01,  5.38726831e+00,  1.51974384e+01,  8.31040889e+00,\n",
       "         6.76638665e+00,  1.66897599e+01,  1.59912359e+01,  1.78886945e+01,\n",
       "         1.35155239e+01,  1.53120043e+01,  5.03478223e+00,  1.67572619e+01,\n",
       "         1.86594201e+01,  1.48439594e+01,  1.12131147e+01,  2.65159313e+01,\n",
       "         2.54985096e+01,  1.13832454e+01,  1.78255625e+01,  1.30128733e+01,\n",
       "         8.82358662e+00,  1.35749053e+01,  1.66420632e+01,  2.01008497e+01,\n",
       "         1.13149918e+01,  3.63610852e+01,  1.44116787e+01,  1.40861829e+01,\n",
       "         1.79117111e+01,  6.12803408e+00,  2.52080501e+01,  1.21798282e+00,\n",
       "         7.24029001e+00,  1.70982808e+01,  2.15968216e+01,  1.13009146e+01,\n",
       "         1.23227166e+01,  2.69220321e+00,  7.67331643e+00,  2.93518988e+01,\n",
       "         9.67081421e+00,  2.15873918e-01,  1.00877127e+01,  1.45294470e+01,\n",
       "         2.16397219e+01,  1.74213225e+01,  1.85156061e+01, -4.12615717e+00,\n",
       "         4.82903477e+00,  1.47369523e+01,  1.89615561e+01,  3.88661551e+01,\n",
       "         1.56633001e+01,  3.53977229e+01,  2.23451024e+01,  1.63420346e+01,\n",
       "         2.09615755e+01,  1.89081413e+01,  1.14813672e+01,  3.28294488e+01,\n",
       "         1.12951862e+01,  1.78706713e+01,  1.35924881e+01,  1.61055502e+01,\n",
       "         1.52948998e+01,  1.25867458e+01,  1.08973742e+01,  3.73146863e+01,\n",
       "         1.34865008e+01,  2.09799616e+01,  1.87218680e+01,  4.44432703e+01,\n",
       "         1.28288095e+01,  1.65066161e+01,  8.09464468e+00,  1.63368783e+01,\n",
       "         6.58875852e+00,  2.24025685e+01,  1.60947994e+01,  3.84267237e+01,\n",
       "         1.47448844e+01,  1.81507754e+01,  1.97658007e+01,  2.19006050e+01,\n",
       "         2.00122073e+01,  1.41354535e+00,  2.59063234e+01,  1.30147929e+01,\n",
       "         1.64968262e+01,  5.85692006e+00,  2.20807259e+01, -1.07547815e+01,\n",
       "         9.79084859e+00,  1.48396772e+01,  1.43524386e+01,  1.51982431e+01,\n",
       "         1.64845424e+01,  7.56402173e+00,  1.87687354e+01,  6.47472051e+01,\n",
       "         1.58034641e+01, -9.76197457e-02,  4.52172893e+01,  1.80108914e+01,\n",
       "         1.71023259e+01,  1.37601093e+01,  8.03163589e+00,  1.00564169e+01,\n",
       "         1.13344014e+01, -2.00455526e+00,  1.85514322e+01,  2.11594644e+01,\n",
       "         1.22123300e+01,  1.04963779e-01,  1.96278387e+01,  1.44053338e+01,\n",
       "         3.04863720e+01,  1.33089367e+01,  1.64797976e+01,  2.10650482e+01,\n",
       "         1.23389823e+01,  2.29316741e+01,  1.54908102e+01,  1.81455142e+01,\n",
       "         1.21559252e+01,  2.55352543e+01,  1.27875828e+01,  6.35820129e+00,\n",
       "         1.49462854e+01,  1.14416644e+01,  1.79110923e+01,  1.47615687e+01,\n",
       "         6.09116334e+00,  2.11367887e+01,  1.04229953e+01,  7.23370672e+00,\n",
       "         1.68760800e+01,  2.76867884e+01,  1.38215246e+01,  1.74628363e+01,\n",
       "         9.34141221e+00,  1.54578559e+01,  1.94187351e+01,  2.31406943e+01,\n",
       "         8.52759675e+00,  1.26712104e+01,  4.59299729e+01,  5.71855230e-01,\n",
       "         2.67584040e+01,  1.09888530e+01,  1.11587029e+01,  1.98981703e+01,\n",
       "         1.88674357e+01,  2.09602540e+01,  1.46663407e+01,  1.91431969e+01,\n",
       "         1.93753164e+01,  1.33311822e+01,  1.28238428e+01,  2.17799602e+01,\n",
       "         3.78410268e+01,  1.06997935e+01,  8.38146717e+00,  1.69816635e+01,\n",
       "        -3.45590493e+00,  3.39454030e+01,  1.60277412e+01,  2.30979137e+01,\n",
       "         8.12351178e+00,  1.97042004e+01, -1.06945216e-01,  1.24373849e+01,\n",
       "         9.72870581e+00,  1.90202879e+01,  1.84467496e+01,  1.87678680e+01,\n",
       "         1.14581643e+01,  1.08238492e+01,  1.17728541e+01,  2.23771643e+01,\n",
       "         1.67379688e+01,  5.09156367e+00,  1.51467977e+01,  1.02020760e+01,\n",
       "         4.60251716e+01,  1.11022176e+01,  1.03896944e+01,  1.70865222e+01,\n",
       "         1.52826723e+01,  5.61114351e+00,  9.94898868e+00,  1.79133572e+01,\n",
       "         1.64389341e+01,  1.26272774e+01,  2.04028686e+01,  8.96267172e+00,\n",
       "         3.70965061e+00,  9.19093355e+00,  5.38006344e+00,  2.10808798e+01,\n",
       "         7.52133545e+00,  2.01607744e+01,  8.79411181e+00,  1.99046067e+01,\n",
       "         1.06484029e+01,  2.23324486e+00,  1.08895070e+01,  7.59838238e+00,\n",
       "         2.33808587e+01,  7.21060232e+00,  2.46426624e+01,  9.91828040e+00,\n",
       "         2.39516668e+00,  1.30851060e+01,  8.11050414e+00,  2.99606744e+01,\n",
       "         2.01895015e+01,  2.15015498e+01,  6.97103371e+00,  1.52590079e+01,\n",
       "         2.14517672e+01,  1.86632532e+01,  1.15851498e+01,  2.97431785e+00,\n",
       "         7.03294132e+00,  6.24331032e+00,  5.96197638e+00,  1.27691362e+01,\n",
       "        -6.38166736e-01,  7.86256065e+00,  1.76964880e+01,  1.47681019e+01,\n",
       "         2.60298643e+00,  1.18473402e+01,  3.15479518e+01,  2.34189680e+01,\n",
       "         1.63300672e+01,  2.41043932e+01,  2.61542554e+01,  1.46649768e+01,\n",
       "         1.12765999e+01,  2.36678844e+00,  9.66309297e+00,  8.46354798e+00,\n",
       "         2.41233993e+01,  1.92221422e+01,  7.16493395e+00,  8.47170038e+00,\n",
       "         1.43121557e+01,  1.63357666e+01,  3.18045291e+01,  4.00159544e+01,\n",
       "         1.02239505e+01,  2.63102192e+01,  5.94950939e+00,  2.02651890e+01,\n",
       "         2.69995406e+01,  1.88476304e+01,  1.57815885e+01,  1.07105678e+01,\n",
       "         1.02192803e+01,  1.30133745e+01,  1.09436436e+01,  2.51017207e+01,\n",
       "         2.38196805e+01,  1.28834623e+01,  1.57961010e+01,  1.37403925e+01,\n",
       "         3.39412190e+00,  1.38416727e+01,  3.03686731e+01,  5.53083002e+00,\n",
       "         2.40445238e+01,  3.23853883e+01,  3.47431309e+01,  1.30960295e+01,\n",
       "         1.51483637e+01,  9.42556937e+00,  1.69232200e+01,  1.13760203e+01,\n",
       "         2.19843882e+01,  1.83646345e+01,  2.22240950e+01,  1.43260809e+01,\n",
       "         1.53516615e+00,  3.11983625e+01,  3.33833670e+01,  2.16589624e+01,\n",
       "         1.15259033e+01,  3.00522494e+01,  1.77117466e+01,  1.04785458e+01,\n",
       "         8.99668429e+00,  2.37103316e+01, -3.93450469e-02,  2.82470888e+00,\n",
       "         1.85241438e+01,  1.95415552e+01,  7.87112924e+00,  6.59028867e+00,\n",
       "         9.10564932e+00,  2.11407813e+01,  9.12213287e+00,  1.89729059e+01,\n",
       "         2.35572821e+01,  1.12900545e+01,  2.39861237e+01,  1.05531347e+01,\n",
       "         4.45278524e+00,  1.62340965e+01,  1.86272568e+01,  6.46517329e+00,\n",
       "         7.01481103e+00,  6.26740933e+00,  1.23010210e+01,  6.39565112e+00,\n",
       "         7.72245929e+00,  5.80821791e+00,  1.92722930e+01,  1.54984185e+01,\n",
       "         2.43565848e+01,  1.82346322e+01,  2.19731846e+01,  7.75623245e+00,\n",
       "         1.23641979e+01,  2.06977778e+01,  2.24311855e+01,  1.07329244e+01,\n",
       "         1.85955430e+00,  3.66853828e+01,  2.09000470e+01,  9.82189994e+00,\n",
       "         3.89159138e+00,  1.31930209e+01,  2.07049859e+01,  1.20555347e+01,\n",
       "        -3.67887569e+00,  1.30457133e+00,  1.88273571e+01,  2.14549564e+01,\n",
       "         3.00971205e+01,  1.55899174e+01,  1.60911903e+01,  6.50642321e+00,\n",
       "         1.50108273e+01,  3.32809670e+01,  1.67351652e+01,  6.86176798e+00,\n",
       "         9.74793215e+00,  1.40829553e+01,  9.45028499e+00,  1.02002153e+01,\n",
       "         1.46952901e+01,  2.24255337e+01,  1.05504710e+01,  1.31972452e+01,\n",
       "         1.05162270e+01,  4.61492291e+00,  1.15950214e+01,  1.82822385e+01,\n",
       "         1.27122027e+01,  3.08706754e+01,  1.25229653e+01,  1.69040610e+01,\n",
       "         2.06175213e+01,  5.49456555e+00,  6.56387855e+00,  2.12822437e+01,\n",
       "         7.71591663e+00,  3.29512479e+01,  1.17247921e+01,  1.39819049e+01,\n",
       "         1.38160050e+01,  1.01219438e+01,  1.28067567e+01,  6.09570317e+01,\n",
       "         2.79176490e+01,  2.99365539e+00,  8.71189260e+00,  1.83105741e+01,\n",
       "         2.02146041e+01,  9.17095861e+00,  1.83943300e+01,  1.90091785e+01,\n",
       "         2.14025509e+01,  1.93695655e+01,  2.49679107e+01,  1.97248797e+01,\n",
       "         1.78197523e+01,  9.91906395e+00,  2.93692941e+01,  1.82802831e+01,\n",
       "         1.77934276e+01,  1.78105624e+01,  1.10019389e+01,  4.11850176e+01,\n",
       "         7.02064769e+00,  2.03127296e+01,  1.14103679e+01,  1.99168038e+01,\n",
       "         2.50437733e+00,  4.86308350e+00,  1.88208239e+01,  1.70871104e+01,\n",
       "         1.84520649e+01,  2.14119339e+01,  9.16785532e+00,  1.97279458e+01,\n",
       "         2.27705670e+01,  3.74915632e+01,  1.43045513e+01,  7.30002227e-01,\n",
       "         6.47093656e+00,  1.40355697e+01,  1.57919957e+01,  1.37057350e+01,\n",
       "         8.50449629e+00,  1.68213971e+01,  2.05724841e+01,  3.14397165e+01,\n",
       "         1.61455962e+01,  3.76647971e+00, -1.02426423e+00,  6.10463506e+00,\n",
       "         8.84912494e+00, -9.35185983e-02,  1.60403262e+01,  1.92218277e+01,\n",
       "         3.88964308e+00,  6.65744017e+00,  1.28245503e+01,  1.21776234e+01,\n",
       "         1.86197327e+01,  1.09772138e+01,  4.50106959e+00,  1.30616456e+01,\n",
       "         6.76589822e+00,  6.09019445e+00,  4.98114516e+00,  1.00820711e+01,\n",
       "         1.09324470e+01,  1.91915664e+01, -1.80298060e+00,  6.35781764e+00,\n",
       "         1.60564460e+01,  1.11833764e+01,  1.16538124e+01,  1.23295889e+01,\n",
       "         1.27658734e+01,  2.85696078e+01,  1.70468529e+00,  1.30284145e+01,\n",
       "         1.05552386e+01,  9.09290388e+00,  8.41720344e+00,  2.05364253e+01,\n",
       "         8.52004435e+00,  1.68669852e+01,  1.56287252e+01,  1.62105432e+01,\n",
       "         1.07858378e+01,  7.63873779e+00,  9.86571951e+00,  1.39981850e+01,\n",
       "         1.70270606e+01,  8.27341695e+00,  1.90908421e+01,  2.01328252e+01,\n",
       "         1.15024448e+01,  1.01946388e+01,  1.45969245e+01,  2.09353355e+01,\n",
       "         1.65554807e+01,  7.07248178e+00,  1.15823659e+01,  4.86773386e+01,\n",
       "         2.05037863e+01,  2.46184686e+01,  1.08878704e+01,  2.05161452e+01,\n",
       "         1.02127340e+01,  2.07601135e+01,  7.87215648e+00,  1.52902004e+01,\n",
       "         1.72651268e+01,  2.09012055e+01,  3.31088785e+01,  8.14733035e+00,\n",
       "         3.88194703e+01,  2.62519723e+01,  1.55973402e+01,  2.10316758e+01,\n",
       "         2.29110802e+01,  2.19444027e+01,  1.14676806e+01,  2.12900710e+01,\n",
       "         1.57695501e+01,  1.13874664e+01,  2.14518888e+01,  6.03742866e+00,\n",
       "         1.57256983e+01,  2.05652741e+01,  1.70852624e+01,  6.30129396e+00,\n",
       "         1.13535137e+01,  1.33807001e+01,  1.33726457e+00,  1.67383656e+01,\n",
       "         9.33321148e+00,  1.06289993e+01,  1.21504024e+01,  9.25442468e+00,\n",
       "         3.33576307e+00,  2.97507171e+01,  1.32240893e+01,  5.01491700e+00,\n",
       "         1.65408375e+01,  1.94560248e+01,  1.44488188e+01,  8.23138476e+00,\n",
       "         5.90594508e+00,  1.44328451e+01,  3.09725439e+01,  2.01561262e+01,\n",
       "         1.19886343e+01,  9.66242316e+00,  9.55271715e+00,  2.07063197e+01,\n",
       "         1.66962696e+01,  6.11617601e+00,  1.30065380e+01,  1.15338145e+01,\n",
       "         1.44925524e+01,  1.83942417e+01,  1.05682536e+01,  1.09959085e+01,\n",
       "         1.88889808e+01,  1.08122744e+01,  1.94969549e+01,  9.87084019e-01,\n",
       "         1.87342367e+01,  2.14123650e+01,  1.83448497e+01,  2.08749494e+01,\n",
       "         6.48700480e+00,  2.09661738e+01,  1.00484777e+01,  5.61570613e+00,\n",
       "         6.14903518e+00,  1.76236989e+01, -2.05991723e+00,  2.25559672e+01,\n",
       "         1.63617169e+01,  1.61497277e+01,  1.56276242e+01,  3.02861328e+01,\n",
       "         1.61180736e+01,  1.61158402e+01,  1.36329898e+01,  1.97602816e+01,\n",
       "         4.37853492e+00,  1.86031514e+01,  5.17100103e+01,  3.82988941e+00,\n",
       "         9.62959166e+00,  1.49734114e+00,  2.19898230e+01,  3.65840706e+01,\n",
       "         1.44463069e+01,  1.81986820e+01,  4.97048921e+00,  2.36429183e+01,\n",
       "         3.71182629e+01,  3.24458282e+01,  8.44510794e+00,  1.69622682e+01,\n",
       "         1.75729998e+01,  7.77944281e+00,  6.09803840e+00,  1.73648667e+01,\n",
       "         2.00143658e+01,  2.09102407e+01,  9.21342375e+00,  3.48270622e+01,\n",
       "         2.09081214e+01,  4.28480077e+01,  1.52054864e+01,  4.43140184e+01,\n",
       "         7.70325837e+00,  1.56762428e+01,  1.13675147e+01,  2.39183944e+01,\n",
       "         1.29998917e+01]),\n",
       " 'random_forest_reg': array([ 39.49  ,  15.84  ,  14.81  ,   5.75  ,   5.65  ,  10.64  ,\n",
       "         25.4   ,  10.85  ,  13.03  ,   7.14  ,  18.08  ,  18.755 ,\n",
       "         11.575 ,   9.8   ,  10.125 ,   8.095 ,  10.26  ,  26.04  ,\n",
       "         19.68  ,  17.24  ,  53.21  ,  10.82  ,  16.88  ,   9.6   ,\n",
       "         16.66  , 135.75  ,  10.29  ,  20.27  ,  16.57  ,  18.07  ,\n",
       "          8.925 ,   4.99  ,  11.13  ,  10.96  ,  10.08  ,   7.225 ,\n",
       "         15.07  ,  16.615 ,  21.52  ,  28.65  ,  10.89  ,   9.06  ,\n",
       "          6.33  ,  34.39  ,  10.115 ,  24.2242,  20.67  ,  12.785 ,\n",
       "         15.3   ,  15.71  ,  14.3575,   8.47  ,  13.38  ,  17.19  ,\n",
       "         15.715 ,  10.995 ,   5.06  ,   4.82  ,  12.015 ,  24.29  ,\n",
       "         10.62  ,   6.6568,  10.55  ,  30.92  ,  18.46  ,  12.07  ,\n",
       "          6.465 ,  11.215 ,  12.695 ,  18.61  ,   8.92  ,  17.04  ,\n",
       "         10.34  ,   5.86  ,  16.14  ,  17.94  ,  10.21  ,  17.37  ,\n",
       "         11.11  ,  10.395 ,   9.64  ,  16.77  ,  10.715 ,  18.89  ,\n",
       "         11.33  ,  29.03  ,  27.19  ,   8.92  ,  10.62  ,  11.6   ,\n",
       "          9.41  ,  12.23  ,   8.3184,  15.67  ,   5.4   ,  17.905 ,\n",
       "         10.46  ,  10.845 ,  10.34  ,  11.475 ,  27.32  ,  17.85  ,\n",
       "         18.99  ,   6.045 ,  11.38  ,  32.29  ,  16.29  ,  20.4   ,\n",
       "          7.01  ,  18.13  ,   4.5   ,  22.015 ,   9.43  ,   9.77  ,\n",
       "         27.45  ,  16.9   ,   8.28  ,  16.63  ,  16.9   ,   5.53  ,\n",
       "         19.4575,  17.6925,   7.18  ,  11.22  ,  16.9225,  16.32  ,\n",
       "          9.48  ,  16.195 ,  10.85  ,  19.0925,  14.72  ,  18.52  ,\n",
       "         31.2   ,  18.06  ,  10.965 ,  17.93  ,  17.42  ,  11.73  ,\n",
       "         10.305 ,  10.175 ,  10.15  ,  12.055 ,  16.64  ,  10.84  ,\n",
       "         11.64  ,   5.56  ,  40.7421,  16.39  ,   7.4542,  14.53  ,\n",
       "         17.38  ,  16.01  ,  10.73  ,  11.62  ,   9.08  ,   8.45  ,\n",
       "         19.38  ,  15.28  ,  13.72  ,  10.885 ,  16.245 ,   6.65  ,\n",
       "         20.435 ,  16.975 ,  11.5   ,  17.575 ,  17.21  ,  18.1425,\n",
       "         21.69  ,  17.78  ,   6.66  ,  15.495 ,  16.94  ,   6.715 ,\n",
       "         19.57  ,   5.54  ,  24.3554,  14.5   ,  15.84  ,  19.5   ,\n",
       "          9.81  ,  15.955 ,  17.    ,  29.427 ,  34.61  ,  17.99  ,\n",
       "         22.24  ,  16.88  ,   5.04  ,  33.29  ,  10.25  ,   5.26  ,\n",
       "         10.33  ,  15.66  ,  10.63  ,  71.8   ,  17.95  ,  15.14  ,\n",
       "         17.4675,  23.84  ,  15.035 ,  19.015 ,  23.79  ,  10.405 ,\n",
       "         28.8287,   6.3792,  13.64  ,  11.54  ,  12.25  ,   7.47  ,\n",
       "         19.235 ,   9.48  ,  17.85  ,  10.28  ,  16.63  ,  10.785 ,\n",
       "         10.85  ,  12.12  ,  20.8187,  11.66  ,  14.75  ,   9.83  ,\n",
       "         15.79  ,   6.15  ,  15.69  ,  18.99  ,  20.73  ,  16.83  ,\n",
       "         11.78  ,   7.81  ,   8.705 ,  52.56  ,  18.02  ,  10.29  ,\n",
       "         19.335 ,  14.04  ,  16.96  ,  15.79  ,  13.9525,  17.18  ,\n",
       "         10.845 ,  16.87  ,  11.175 ,  26.91  ,  10.67  ,  10.92  ,\n",
       "          6.25  ,  14.305 ,  12.855 ,  32.72  ,   7.54  ,  22.61  ,\n",
       "         16.07  ,  11.72  ,   7.3   ,  14.425 ,  33.26  ,   4.22  ,\n",
       "         15.73  ,  11.12  ,  11.945 ,  13.0875,  21.21  ,   8.955 ,\n",
       "         16.145 ,  32.5974,  30.34  ,  18.31  ,  10.83  ,  17.2725,\n",
       "         12.295 ,  16.59  ,  24.47  ,  16.86  ,  18.65  ,  10.71  ,\n",
       "         18.66  ,  25.6487,  22.5125,  29.06  ,   6.47  ,   5.08  ,\n",
       "         10.43  ,  19.365 ,  10.99  ,  16.41  ,  16.24  ,  21.335 ,\n",
       "         17.63  ,  16.2   ,   6.2   ,  20.52  ,  25.84  ,  15.13  ,\n",
       "         14.63  ,  34.6   ,  37.8721,   9.815 ,  17.075 ,  17.25  ,\n",
       "          8.6   ,  25.68  ,  18.33  ,  31.58  ,   9.8   ,  10.365 ,\n",
       "          5.68  ,  29.6757,  11.08  ,   6.34  ,  10.74  ,  15.33  ,\n",
       "          8.88  ,  20.76  ,  10.27  ,   5.48  ,  19.23  ,  11.33  ,\n",
       "         10.61  ,  22.0725,  10.54  ,  16.19  ,   5.54  ,  16.015 ,\n",
       "         24.47  ,  11.63  ,   6.4   ,  10.48  ,  18.64  ,   6.4068,\n",
       "         17.79  ,  10.76  ,   9.89  ,   6.19  ,  16.69  ,  19.81  ,\n",
       "         11.275 ,  10.53  ,  29.46  ,  18.8325,   9.14  ,  15.13  ,\n",
       "          9.38  ,  18.99  ,  18.0225,  11.85  ,  17.44  ,  12.66  ,\n",
       "          9.43  ,  10.12  ,  11.45  ,   6.15  ,  38.2   ,  11.68  ,\n",
       "          9.69  ,   9.93  ,  29.06  ,   6.88  ,  10.59  ,  33.8   ,\n",
       "         10.74  ,  17.84  ,  10.33  ,  16.815 ,  24.65  ,  18.34  ,\n",
       "         10.87  ,  15.35  ,   5.55  ,  15.515 ,  16.48  ,  16.13  ,\n",
       "         18.215 ,  11.29  ,   9.105 ,  16.05  ,  14.39  ,   6.36  ,\n",
       "         11.715 ,  19.245 ,  10.12  ,  16.38  ,  10.16  ,  17.38  ,\n",
       "         15.05  ,  19.43  ,   4.6   ,  18.285 ,  18.82  ,  11.8   ,\n",
       "          8.385 ,  17.11  ,  18.43  ,  11.31  ,  16.825 ,  10.99  ,\n",
       "          4.63  ,  16.55  ,  16.18  ,  18.91  ,   6.97  ,  24.44  ,\n",
       "          9.37  ,  24.14  ,  14.38  ,  11.03  ,  17.19  ,   6.005 ,\n",
       "          7.77  ,  41.61  ,  19.195 ,   8.275 ,   8.915 ,   4.875 ,\n",
       "          7.3442,  30.59  ,  16.8725,   9.97  ,  10.36  ,  22.96  ,\n",
       "         18.505 ,  14.215 ,  13.67  ,   8.13  ,   5.42  ,  17.48  ,\n",
       "         22.115 ,  37.67  ,  13.67  ,  29.68  ,  16.72  ,  10.395 ,\n",
       "         15.64  ,  17.635 ,  12.17  ,  38.5742,  11.91  ,  16.17  ,\n",
       "         17.27  ,  12.475 ,  11.035 ,   8.385 ,   9.15  ,  28.71  ,\n",
       "         17.35  ,  18.6325,  22.28  ,  27.36  ,   8.51  ,  16.14  ,\n",
       "         10.49  ,  13.01  ,   6.2184,  16.82  ,  11.15  ,  41.33  ,\n",
       "         17.72  ,  16.81  ,  16.99  ,  17.8   ,  16.8   ,  12.05  ,\n",
       "         19.56  ,   9.17  ,  16.15  ,   4.75  ,  16.5225,  21.26  ,\n",
       "         10.41  ,  17.77  ,  15.475 ,  15.1725,  13.16  ,  10.575 ,\n",
       "         29.81  , 128.94  ,  18.63  ,  17.7   ,  29.6   ,  18.06  ,\n",
       "         17.41  ,  17.88  ,   7.44  ,  10.615 ,   9.535 ,   6.61  ,\n",
       "         22.06  ,  17.4   ,  11.61  ,   6.5   ,  17.305 ,  15.785 ,\n",
       "         45.79  ,  11.02  ,  15.755 ,  17.285 ,  10.765 ,  16.48  ,\n",
       "         14.895 ,  15.9   ,  14.52  ,  29.477 ,   9.46  ,  12.23  ,\n",
       "         22.505 ,  17.87  ,  13.76  ,  15.81  ,  12.255 ,  19.03  ,\n",
       "         11.23  ,   9.77  ,  18.42  ,  22.52  ,  38.195 ,  18.65  ,\n",
       "         11.96  ,  14.96  ,  17.27  ,  20.965 ,  11.03  ,  11.04  ,\n",
       "         46.86  ,   4.86  ,  25.99  ,  11.27  ,  17.7875,  47.55  ,\n",
       "         15.07  ,  15.58  ,  13.52  ,  14.76  ,  22.35  ,  11.44  ,\n",
       "         17.575 ,  15.73  ,  27.05  ,  10.23  ,   5.35  ,  17.095 ,\n",
       "          5.96  ,  28.53  ,  21.15  ,  15.7   ,   7.85  ,  18.98  ,\n",
       "          6.35  ,  10.44  ,  10.385 ,  22.08  ,  10.685 ,  12.48  ,\n",
       "         10.025 ,  10.575 ,  16.34  ,  19.09  ,  18.47  ,   8.68  ,\n",
       "         18.02  ,   9.78  ,  32.1   ,  10.03  ,  10.87  ,  17.05  ,\n",
       "         23.245 ,   8.885 ,  11.59  ,  15.75  ,  19.01  ,  16.3625,\n",
       "         16.8   ,   5.6084,  10.59  ,   9.965 ,   9.855 ,  21.56  ,\n",
       "          9.99  ,  17.81  ,  11.105 ,  26.62  ,   8.85  ,   9.06  ,\n",
       "         10.4   ,   9.88  ,  21.215 ,   9.39  ,  26.82  ,   6.6   ,\n",
       "          4.48  ,  16.28  ,  10.705 ,  31.6021,  17.33  ,  14.95  ,\n",
       "          4.9   ,  17.6   ,  14.935 ,  15.42  ,  11.27  ,  18.43  ,\n",
       "          9.08  ,   5.64  ,   5.72  ,  26.85  ,   5.33  ,   8.64  ,\n",
       "         19.9075,  14.425 ,   5.55  ,  15.905 ,  30.9097,  15.33  ,\n",
       "         19.22  ,  21.31  ,  22.8587,  20.475 ,  10.24  ,   9.745 ,\n",
       "         10.01  ,  12.345 ,  14.71  ,  17.355 ,  11.125 ,  12.46  ,\n",
       "         12.12  ,  17.03  ,  29.49  ,  31.9984,  11.315 ,  17.09  ,\n",
       "          4.52  ,  19.52  ,  22.57  ,  16.63  ,  15.68  ,  10.72  ,\n",
       "          5.64  ,  14.82  ,  11.06  ,  18.27  ,  19.4   ,  17.735 ,\n",
       "          9.85  ,  10.73  ,   4.31  ,  10.53  ,  29.4   ,  10.49  ,\n",
       "         20.84  ,  24.06  ,  32.35  ,  10.64  ,  11.785 ,  18.68  ,\n",
       "         14.28  ,  10.7   ,  16.41  ,  16.58  ,  15.165 ,  18.8   ,\n",
       "          7.28  ,  38.3287,  53.17  ,  27.28  ,  12.32  ,  32.72  ,\n",
       "         15.96  ,   8.92  ,  10.98  ,  22.71  ,   6.4692,   6.49  ,\n",
       "         20.8   ,  20.3   ,   6.13  ,   6.665 ,  11.56  ,  17.31  ,\n",
       "          8.39  ,  17.16  ,  29.497 ,  17.365 ,  46.39  ,  11.53  ,\n",
       "          6.675 ,  19.3   ,  17.58  ,  10.275 ,   7.09  ,   4.77  ,\n",
       "         11.78  ,   6.4892,   6.09  ,   6.1   ,  17.36  ,  14.73  ,\n",
       "         15.36  ,  14.7625,  17.85  ,  13.53  ,   9.29  ,  21.065 ,\n",
       "         21.1187,   7.05  ,   4.07  ,  30.69  ,  17.9   ,  10.61  ,\n",
       "          6.62  ,  13.155 ,  17.42  ,   9.97  ,   5.37  ,   8.45  ,\n",
       "         19.74  ,  19.4425,  23.14  ,  14.33  ,  18.14  ,   5.935 ,\n",
       "         10.23  ,  32.6021,  12.41  ,   7.39  ,   6.84  ,  17.515 ,\n",
       "         16.3425,  10.9   ,  12.825 ,  18.38  ,  14.91  ,  19.38  ,\n",
       "          8.5   ,   5.31  ,  11.055 ,  15.565 ,  14.55  ,  18.38  ,\n",
       "         10.38  ,  16.1725,  19.79  ,   7.63  ,  10.98  ,  19.03  ,\n",
       "         10.71  ,  27.27  ,  10.34  ,  23.56  ,  10.67  ,   9.21  ,\n",
       "         11.26  ,  28.5721,  28.01  ,   6.11  ,  11.16  ,  18.62  ,\n",
       "         17.36  ,  12.62  ,  15.5975,  11.12  ,  17.76  ,  13.48  ,\n",
       "         22.14  ,  18.555 ,  16.39  ,   9.62  ,  37.11  ,  18.075 ,\n",
       "         17.9425,  17.94  ,  11.06  ,  25.57  ,   6.61  ,  16.02  ,\n",
       "         11.16  ,  14.29  ,  10.85  ,   4.47  ,  16.35  ,  24.74  ,\n",
       "         19.605 ,  18.16  ,  10.91  ,  14.945 ,  18.04  ,  38.09  ,\n",
       "         17.05  ,   5.03  ,   4.89  ,  10.015 ,  16.02  ,  15.45  ,\n",
       "          7.2292,  16.43  ,  17.485 ,  21.544 ,  18.03  ,   5.34  ,\n",
       "         10.785 ,   9.775 ,  17.52  ,   4.2   ,  17.15  ,  16.    ,\n",
       "          5.755 ,   5.475 ,  15.46  ,  11.83  ,  18.31  ,  11.08  ,\n",
       "          4.885 ,  10.945 ,   6.165 ,   4.44  ,   6.92  ,   5.3   ,\n",
       "         10.965 ,  16.1   ,  16.975 ,  17.475 ,  15.49  ,   5.6   ,\n",
       "         15.675 ,  15.78  ,  11.075 ,  35.3207,   5.3   ,  17.47  ,\n",
       "         10.54  ,  11.42  ,  10.89  ,  19.65  ,   7.13  ,  17.56  ,\n",
       "         11.755 ,  15.74  ,  10.68  ,  11.65  ,   8.8   ,  11.6   ,\n",
       "         14.61  ,  20.99  ,  16.92  ,  20.33  ,   7.745 ,   9.765 ,\n",
       "         11.41  ,  17.51  ,  18.44  ,  10.02  ,   5.63  ,  50.29  ,\n",
       "         18.53  ,  18.28  ,   9.895 ,  19.64  ,   6.91  ,  19.52  ,\n",
       "          9.99  ,  18.03  ,  16.59  ,  17.2   ,  30.46  ,  10.975 ,\n",
       "         27.95  ,  17.91  ,  16.88  ,  19.59  ,  15.885 ,  19.67  ,\n",
       "          9.79  ,  21.02  ,  20.46  ,  10.86  ,  17.59  ,   7.54  ,\n",
       "         11.46  ,  16.62  ,  19.79  ,   5.27  ,  11.31  ,  17.455 ,\n",
       "          7.52  ,  10.77  ,  11.26  ,  15.305 ,  15.15  ,  10.705 ,\n",
       "          6.5   ,  24.86  ,  20.16  ,   5.35  ,  15.39  ,  12.185 ,\n",
       "         18.96  ,  10.62  ,   7.03  ,  14.    ,  27.2321,  33.43  ,\n",
       "         10.555 ,  11.765 ,   7.82  ,  18.9825,  10.37  ,   5.47  ,\n",
       "         11.26  ,  15.225 ,  16.11  ,  16.74  ,  10.32  ,   9.905 ,\n",
       "         18.05  ,  15.21  ,  16.335 ,   4.64  ,  16.52  ,  21.5825,\n",
       "         16.53  ,  22.3074,  12.83  ,  15.03  ,  10.63  ,   8.31  ,\n",
       "          6.73  ,  15.09  ,  10.83  ,  21.77  ,  19.05  ,  17.46  ,\n",
       "         14.025 ,  30.28  ,  15.9125,  19.56  ,  17.44  ,  18.02  ,\n",
       "          6.69  ,  18.83  ,  33.1984,   4.67  ,   7.25  ,   4.45  ,\n",
       "         18.83  ,  32.2991,  29.2442,  12.29  ,  16.63  ,  18.195 ,\n",
       "         39.9847,  32.59  ,   6.32  ,   8.8   ,  17.265 ,   6.83  ,\n",
       "          7.37  ,  20.43  ,  19.19  ,  16.2675,   9.35  ,  31.7   ,\n",
       "         15.99  ,  25.45  ,  10.105 ,  24.16  ,   6.8192,  17.08  ,\n",
       "          8.485 ,  16.58  ,  10.09  ])}"
      ]
     },
     "execution_count": 248,
     "metadata": {},
     "output_type": "execute_result"
    }
   ],
   "source": [
    "preds_test_reg"
   ]
  },
  {
   "cell_type": "code",
   "execution_count": 249,
   "metadata": {},
   "outputs": [
    {
     "data": {
      "text/plain": [
       "{'linreg': array([12.9375,  9.5625, 12.0625, ...,  9.5625, 13.0625, 10.6875]),\n",
       " 'decision_tree_reg': array([ 8., 12., 13., ...,  7., 16., 12.]),\n",
       " 'knn_reg': array([ 9. , 11.2, 10.8, ...,  8. , 14.6,  8. ]),\n",
       " 'mlp': array([11.45525516,  9.22583251, 10.59644377, ...,  5.8085662 ,\n",
       "        11.61372362, 12.64293121]),\n",
       " 'random_forest_reg': array([11.28 , 10.52 , 11.215, ...,  9.34 , 16.78 , 11.   ])}"
      ]
     },
     "execution_count": 249,
     "metadata": {},
     "output_type": "execute_result"
    }
   ],
   "source": [
    "preds_new_reg"
   ]
  }
 ],
 "metadata": {
  "kernelspec": {
   "display_name": "Python 3",
   "language": "python",
   "name": "python3"
  },
  "language_info": {
   "codemirror_mode": {
    "name": "ipython",
    "version": 3
   },
   "file_extension": ".py",
   "mimetype": "text/x-python",
   "name": "python",
   "nbconvert_exporter": "python",
   "pygments_lexer": "ipython3",
   "version": "3.10.2"
  },
  "orig_nbformat": 4,
  "vscode": {
   "interpreter": {
    "hash": "1acc24bd1901f9ae8c29efb6830fcc1ca9fe0219dd00f8f1dc1b91856def15a9"
   }
  }
 },
 "nbformat": 4,
 "nbformat_minor": 2
}
